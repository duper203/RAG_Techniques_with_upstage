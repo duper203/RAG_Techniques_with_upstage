{
  "nbformat": 4,
  "nbformat_minor": 0,
  "metadata": {
    "colab": {
      "provenance": [],
      "authorship_tag": "ABX9TyM2qm+1rPHgojXyBtCIHH6M",
      "include_colab_link": true
    },
    "kernelspec": {
      "name": "python3",
      "display_name": "Python 3"
    },
    "language_info": {
      "name": "python"
    }
  },
  "cells": [
    {
      "cell_type": "markdown",
      "metadata": {
        "id": "view-in-github",
        "colab_type": "text"
      },
      "source": [
        "<a href=\"https://colab.research.google.com/github/duper203/RAG_Techniques_with_upstage/blob/main/upstage/06_query_transformations.ipynb\" target=\"_parent\"><img src=\"https://colab.research.google.com/assets/colab-badge.svg\" alt=\"Open In Colab\"/></a>"
      ]
    },
    {
      "cell_type": "markdown",
      "source": [
        "# Query Transformations for Improved Retrieval in RAG Systems\n",
        "\n",
        "## Overview\n",
        "\n",
        "This code implements three query transformation techniques to enhance the retrieval process in Retrieval-Augmented Generation (RAG) systems:\n",
        "\n",
        "1. Query Rewriting\n",
        "2. Step-back Prompting\n",
        "3. Sub-query Decomposition\n",
        "\n",
        "\n",
        "Each technique aims to improve the relevance and comprehensiveness of retrieved information by modifying or expanding the original query.\n",
        "\n",
        "## Method Details\n",
        "\n",
        "1. Query Rewriting\n",
        "\n",
        "  To make queries more specific and detailed, improving the likelihood of retrieving relevant information.\n",
        "2. Step-back Prompting\n",
        "\n",
        "  To generate broader, more general queries that can help retrieve relevant background information.\n",
        "3. Sub-query Decomposition\n",
        "\n",
        "  To break down complex queries into simpler sub-queries for more comprehensive information retrieval.\n",
        "\n",
        "## Example Use Case\n",
        "\n",
        "The code demonstrates each technique using the example query: \"What are the impacts of climate change on the environment?\"\n",
        "\n",
        "* **Query Rewriting** expands this to include specific aspects like temperature changes and biodiversity.\n",
        "* **Step-back Prompting** generalizes it to \"What are the general effects of climate change?\"\n",
        "* **Sub-query Decomposition** breaks it down into questions about biodiversity, oceans, weather patterns, and terrestrial environments.\n"
      ],
      "metadata": {
        "id": "_4vTJ_fSflby"
      }
    },
    {
      "cell_type": "code",
      "execution_count": null,
      "metadata": {
        "id": "SONz-Z8Ubxiv"
      },
      "outputs": [],
      "source": [
        "! pip3 install -qU langchain-upstage langchain"
      ]
    },
    {
      "cell_type": "code",
      "source": [
        "import os\n",
        "from google.colab import userdata\n",
        "\n",
        "os.environ[\"UPSTAGE_API_KEY\"] = userdata.get(\"UPSTAGE_API_KEY\")"
      ],
      "metadata": {
        "id": "z_2vs2-ob4R3"
      },
      "execution_count": 2,
      "outputs": []
    },
    {
      "cell_type": "markdown",
      "source": [
        "## 1 - Query Rewriting: Reformulating queries to improve retrieval.\n"
      ],
      "metadata": {
        "id": "FW7oDko4b63p"
      }
    },
    {
      "cell_type": "code",
      "source": [
        "from langchain_upstage import ChatUpstage\n",
        "from langchain.prompts import PromptTemplate\n",
        "\n",
        "re_write_llm = ChatUpstage(model=\"solar-pro\")\n",
        "\n",
        "# Create a prompt template for query rewriting\n",
        "query_rewrite_template = \"\"\"You are an AI assistant tasked with reformulating user queries to improve retrieval in a RAG system.\n",
        "Given the original query, rewrite it to be more specific, detailed, and likely to retrieve relevant information.\n",
        "\n",
        "Original query: {original_query}\n",
        "\n",
        "Rewritten query:\"\"\"\n",
        "\n",
        "query_rewrite_prompt = PromptTemplate(\n",
        "    input_variables=[\"original_query\"],\n",
        "    template=query_rewrite_template\n",
        ")\n",
        "\n",
        "# Create an LLMChain for query rewriting\n",
        "query_rewriter = query_rewrite_prompt | re_write_llm\n",
        "\n",
        "def rewrite_query(original_query):\n",
        "    \"\"\"\n",
        "    Rewrite the original query to improve retrieval.\n",
        "\n",
        "    Args:\n",
        "    original_query (str): The original user query\n",
        "\n",
        "    Returns:\n",
        "    str: The rewritten query\n",
        "    \"\"\"\n",
        "    response = query_rewriter.invoke(original_query)\n",
        "    return response.content"
      ],
      "metadata": {
        "id": "bJT_B_q9cbxr"
      },
      "execution_count": 13,
      "outputs": []
    },
    {
      "cell_type": "markdown",
      "source": [
        "## Demonstrate on a use case"
      ],
      "metadata": {
        "id": "vLFxApDacuiX"
      }
    },
    {
      "cell_type": "code",
      "source": [
        "# example query over the understanding climate change dataset\n",
        "original_query = \"What are the impacts of climate change on the environment?\"\n",
        "rewritten_query = rewrite_query(original_query)\n",
        "print(\"Original query:\", original_query)\n",
        "print(\"\\nRewritten query:\", rewritten_query)"
      ],
      "metadata": {
        "colab": {
          "base_uri": "https://localhost:8080/"
        },
        "id": "fbsS9KDVcmjJ",
        "outputId": "d21abacc-2ff1-4d3a-9689-95619c163150"
      },
      "execution_count": 14,
      "outputs": [
        {
          "output_type": "stream",
          "name": "stdout",
          "text": [
            "Original query: What are the impacts of climate change on the environment?\n",
            "\n",
            "Rewritten query: What are the specific environmental impacts of climate change, including its effects on global temperature, sea levels, biodiversity, and natural disasters?\n"
          ]
        }
      ]
    },
    {
      "cell_type": "markdown",
      "source": [
        "## 2 - Step-back Prompting: Generating broader queries for better context retrieval."
      ],
      "metadata": {
        "id": "P7e5Uv0Tc2Cb"
      }
    },
    {
      "cell_type": "code",
      "source": [
        "step_back_llm = ChatUpstage(model=\"solar-pro\")\n",
        "\n",
        "\n",
        "# Create a prompt template for step-back prompting\n",
        "step_back_template = \"\"\"You are an AI assistant tasked with generating broader, more general queries to improve context retrieval in a RAG system.\n",
        "Given the original query, generate a step-back query that is more general and can help retrieve relevant background information.\n",
        "\n",
        "Original query: {original_query}\n",
        "\n",
        "Step-back query:\"\"\"\n",
        "\n",
        "step_back_prompt = PromptTemplate(\n",
        "    input_variables=[\"original_query\"],\n",
        "    template=step_back_template\n",
        ")\n",
        "\n",
        "# Create an LLMChain for step-back prompting\n",
        "step_back_chain = step_back_prompt | step_back_llm\n",
        "\n",
        "def generate_step_back_query(original_query):\n",
        "    \"\"\"\n",
        "    Generate a step-back query to retrieve broader context.\n",
        "\n",
        "    Args:\n",
        "    original_query (str): The original user query\n",
        "\n",
        "    Returns:\n",
        "    str: The step-back query\n",
        "    \"\"\"\n",
        "    response = step_back_chain.invoke(original_query)\n",
        "    return response.content"
      ],
      "metadata": {
        "id": "ZEIrLST7c06M"
      },
      "execution_count": 15,
      "outputs": []
    },
    {
      "cell_type": "markdown",
      "source": [
        "## Demonstrate on a use case"
      ],
      "metadata": {
        "id": "PafuofkCc_51"
      }
    },
    {
      "cell_type": "code",
      "source": [
        "# example query over the understanding climate change dataset\n",
        "original_query = \"What are the impacts of climate change on the environment?\"\n",
        "step_back_query = generate_step_back_query(original_query)\n",
        "print(\"Original query:\", original_query)\n",
        "print(\"\\nStep-back query:\", step_back_query)"
      ],
      "metadata": {
        "colab": {
          "base_uri": "https://localhost:8080/"
        },
        "id": "j31VtzPZc-1V",
        "outputId": "6e8c37e5-4a7a-48e4-adcd-6f68e12533eb"
      },
      "execution_count": 16,
      "outputs": [
        {
          "output_type": "stream",
          "name": "stdout",
          "text": [
            "Original query: What are the impacts of climate change on the environment?\n",
            "\n",
            "Step-back query: How does climate change affect the natural world?\n"
          ]
        }
      ]
    },
    {
      "cell_type": "markdown",
      "source": [
        "## 3- Sub-query Decomposition: Breaking complex queries into simpler sub-queries."
      ],
      "metadata": {
        "id": "HoQ4-FeXdH2p"
      }
    },
    {
      "cell_type": "code",
      "source": [
        "sub_query_llm = ChatUpstage(model=\"solar-pro\")\n",
        "\n",
        "# Create a prompt template for sub-query decomposition\n",
        "subquery_decomposition_template = \"\"\"You are an AI assistant tasked with breaking down complex queries into simpler sub-queries for a RAG system.\n",
        "Given the original query, decompose it into 2-4 simpler sub-queries that, when answered together, would provide a comprehensive response to the original query.\n",
        "\n",
        "Original query: {original_query}\n",
        "\n",
        "example: What are the impacts of climate change on the environment?\n",
        "\n",
        "Sub-queries:\n",
        "1. What are the impacts of climate change on biodiversity?\n",
        "2. How does climate change affect the oceans?\n",
        "3. What are the effects of climate change on agriculture?\n",
        "4. What are the impacts of climate change on human health?\"\"\"\n",
        "\n",
        "\n",
        "subquery_decomposition_prompt = PromptTemplate(\n",
        "    input_variables=[\"original_query\"],\n",
        "    template=subquery_decomposition_template\n",
        ")\n",
        "\n",
        "# Create an LLMChain for sub-query decomposition\n",
        "subquery_decomposer_chain = subquery_decomposition_prompt | sub_query_llm\n",
        "\n",
        "def decompose_query(original_query: str):\n",
        "    \"\"\"\n",
        "    Decompose the original query into simpler sub-queries.\n",
        "\n",
        "    Args:\n",
        "    original_query (str): The original complex query\n",
        "\n",
        "    Returns:\n",
        "    List[str]: A list of simpler sub-queries\n",
        "    \"\"\"\n",
        "    response = subquery_decomposer_chain.invoke(original_query).content\n",
        "    sub_queries = [q.strip() for q in response.split('\\n') if q.strip() and not q.strip().startswith('Sub-queries:')]\n",
        "    return sub_queries"
      ],
      "metadata": {
        "id": "0hcKOUn0dJz6"
      },
      "execution_count": 18,
      "outputs": []
    },
    {
      "cell_type": "markdown",
      "source": [
        "## Demonstrate on a use case"
      ],
      "metadata": {
        "id": "h8stWpxtdQ2U"
      }
    },
    {
      "cell_type": "code",
      "source": [
        "# example query over the understanding climate change dataset\n",
        "original_query = \"What are the impacts of climate change on the environment?\"\n",
        "sub_queries = decompose_query(original_query)\n",
        "print(\"\\nSub-queries:\")\n",
        "for i, sub_query in enumerate(sub_queries, 1):\n",
        "    print(sub_query)"
      ],
      "metadata": {
        "colab": {
          "base_uri": "https://localhost:8080/"
        },
        "id": "Q88L7YrRdR8B",
        "outputId": "1ef0604f-0acf-4b41-a898-d81e77715c93"
      },
      "execution_count": 19,
      "outputs": [
        {
          "output_type": "stream",
          "name": "stdout",
          "text": [
            "\n",
            "Sub-queries:\n",
            "1. What are the impacts of climate change on the global temperature?\n",
            "2. How does climate change affect precipitation patterns and extreme weather events?\n",
            "3. What are the consequences of climate change on sea level rise?\n",
            "4. How does climate change impact natural habitats, such as forests, wetlands, and polar regions?\n"
          ]
        }
      ]
    }
  ]
}