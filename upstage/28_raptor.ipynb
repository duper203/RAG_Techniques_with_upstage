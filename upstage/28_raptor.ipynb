{
  "nbformat": 4,
  "nbformat_minor": 0,
  "metadata": {
    "colab": {
      "provenance": [],
      "authorship_tag": "ABX9TyMkjx5vl6uRfP0af3PrM8ra",
      "include_colab_link": true
    },
    "kernelspec": {
      "name": "python3",
      "display_name": "Python 3"
    },
    "language_info": {
      "name": "python"
    }
  },
  "cells": [
    {
      "cell_type": "markdown",
      "metadata": {
        "id": "view-in-github",
        "colab_type": "text"
      },
      "source": [
        "<a href=\"https://colab.research.google.com/github/duper203/RAG_Techniques_with_upstage/blob/main/upstage/28_raptor.ipynb\" target=\"_parent\"><img src=\"https://colab.research.google.com/assets/colab-badge.svg\" alt=\"Open In Colab\"/></a>"
      ]
    },
    {
      "cell_type": "markdown",
      "source": [
        "# RAPTOR: Recursive Abstractive Processing and Thematic Organization for Retrieval\n",
        "\n",
        "## Key Components\n",
        "1. Tree Building: Creates a hierarchical structure of document summaries.\n",
        "2. Embedding and Clustering: Organizes documents and summaries based on semantic similarity.\n",
        "3. Vectorstore: Efficiently stores and retrieves document and summary embeddings.\n",
        "4. Contextual Retriever: Selects the most relevant information for a given query.\n",
        "5. Answer Generation: Produces coherent responses based on retrieved information.\n"
      ],
      "metadata": {
        "id": "l8mW0EI8u9LV"
      }
    },
    {
      "cell_type": "code",
      "execution_count": null,
      "metadata": {
        "id": "BGMx_kQQheQS"
      },
      "outputs": [],
      "source": [
        "! pip3 install -qU langchain-upstage langchain langchain-community faiss-cpu"
      ]
    },
    {
      "cell_type": "code",
      "source": [
        "from langchain_upstage import UpstageEmbeddings, ChatUpstage\n",
        "import numpy as np\n",
        "import pandas as pd\n",
        "from typing import List, Dict, Any\n",
        "from sklearn.mixture import GaussianMixture\n",
        "from langchain.chains.llm import LLMChain\n",
        "from langchain.vectorstores import FAISS\n",
        "from langchain.prompts import ChatPromptTemplate\n",
        "from langchain.retrievers import ContextualCompressionRetriever\n",
        "from langchain.retrievers.document_compressors import LLMChainExtractor\n",
        "from langchain.schema import AIMessage\n",
        "from langchain.docstore.document import Document\n",
        "from langchain_community.document_loaders import PyPDFLoader\n",
        "\n",
        "import matplotlib.pyplot as plt\n",
        "import logging\n",
        "import os\n",
        "from google.colab import userdata\n",
        "os.environ[\"UPSTAGE_API_KEY\"] = userdata.get(\"UPSTAGE_API_KEY\")\n"
      ],
      "metadata": {
        "id": "LmVEhyCshlWB"
      },
      "execution_count": 11,
      "outputs": []
    },
    {
      "cell_type": "code",
      "source": [
        "# Set up logging\n",
        "logging.basicConfig(level=logging.INFO, format='%(asctime)s - %(levelname)s - %(message)s')\n",
        "\n",
        "embeddings = UpstageEmbeddings(model=\"solar-embedding-1-large\")\n",
        "\n",
        "llm = ChatUpstage(model='solar-pro')"
      ],
      "metadata": {
        "id": "uvfdmpYlrdBg"
      },
      "execution_count": 14,
      "outputs": []
    },
    {
      "cell_type": "code",
      "source": [
        "def extract_text(item):\n",
        "    \"\"\"Extract text content from either a string or an AIMessage object.\"\"\"\n",
        "    if isinstance(item, AIMessage):\n",
        "        return item.content\n",
        "    return item\n",
        "\n",
        "def embed_texts(texts: List[str]) -> List[List[float]]:\n",
        "    \"\"\"Embed texts using OpenAIEmbeddings.\"\"\"\n",
        "    logging.info(f\"Embedding {len(texts)} texts\")\n",
        "    return embeddings.embed_documents([extract_text(text) for text in texts])\n",
        "\n",
        "def perform_clustering(embeddings: np.ndarray, n_clusters: int = 10) -> np.ndarray:\n",
        "    \"\"\"Perform clustering on embeddings using Gaussian Mixture Model.\"\"\"\n",
        "    logging.info(f\"Performing clustering with {n_clusters} clusters\")\n",
        "    gm = GaussianMixture(n_components=n_clusters, random_state=42)\n",
        "    return gm.fit_predict(embeddings)\n",
        "\n",
        "def summarize_texts(texts: List[str]) -> str:\n",
        "    \"\"\"Summarize a list of texts using OpenAI.\"\"\"\n",
        "    logging.info(f\"Summarizing {len(texts)} texts\")\n",
        "    prompt = ChatPromptTemplate.from_template(\n",
        "        \"Summarize the following text concisely:\\n\\n{text}\"\n",
        "    )\n",
        "    chain = prompt | llm\n",
        "    input_data = {\"text\": texts}\n",
        "    return chain.invoke(input_data)\n",
        "\n",
        "def visualize_clusters(embeddings: np.ndarray, labels: np.ndarray, level: int):\n",
        "    \"\"\"Visualize clusters using PCA.\"\"\"\n",
        "    from sklearn.decomposition import PCA\n",
        "    pca = PCA(n_components=2)\n",
        "    reduced_embeddings = pca.fit_transform(embeddings)\n",
        "\n",
        "    plt.figure(figsize=(10, 8))\n",
        "    scatter = plt.scatter(reduced_embeddings[:, 0], reduced_embeddings[:, 1], c=labels, cmap='viridis')\n",
        "    plt.colorbar(scatter)\n",
        "    plt.title(f'Cluster Visualization - Level {level}')\n",
        "    plt.xlabel('First Principal Component')\n",
        "    plt.ylabel('Second Principal Component')\n",
        "    plt.show()"
      ],
      "metadata": {
        "id": "N5148MidrmoL"
      },
      "execution_count": 15,
      "outputs": []
    },
    {
      "cell_type": "code",
      "source": [
        "def build_raptor_tree(texts: List[str], max_levels: int = 3) -> Dict[int, pd.DataFrame]:\n",
        "    \"\"\"Build the RAPTOR tree structure with level metadata and parent-child relationships.\"\"\"\n",
        "    results = {}\n",
        "    current_texts = [extract_text(text) for text in texts]\n",
        "    current_metadata = [{\"level\": 0, \"origin\": \"original\", \"parent_id\": None} for _ in texts]\n",
        "\n",
        "    for level in range(1, max_levels + 1):\n",
        "        logging.info(f\"Processing level {level}\")\n",
        "\n",
        "        embeddings = embed_texts(current_texts)\n",
        "        n_clusters = min(10, len(current_texts) // 2)\n",
        "        cluster_labels = perform_clustering(np.array(embeddings), n_clusters)\n",
        "\n",
        "        df = pd.DataFrame({\n",
        "            'text': current_texts,\n",
        "            'embedding': embeddings,\n",
        "            'cluster': cluster_labels,\n",
        "            'metadata': current_metadata\n",
        "        })\n",
        "\n",
        "        results[level-1] = df\n",
        "\n",
        "        summaries = []\n",
        "        new_metadata = []\n",
        "        for cluster in df['cluster'].unique():\n",
        "            cluster_docs = df[df['cluster'] == cluster]\n",
        "            cluster_texts = cluster_docs['text'].tolist()\n",
        "            cluster_metadata = cluster_docs['metadata'].tolist()\n",
        "            summary = summarize_texts(cluster_texts)\n",
        "            summaries.append(summary)\n",
        "            new_metadata.append({\n",
        "                \"level\": level,\n",
        "                \"origin\": f\"summary_of_cluster_{cluster}_level_{level-1}\",\n",
        "                \"child_ids\": [meta.get('id') for meta in cluster_metadata],\n",
        "                \"id\": f\"summary_{level}_{cluster}\"\n",
        "            })\n",
        "\n",
        "        current_texts = summaries\n",
        "        current_metadata = new_metadata\n",
        "\n",
        "        if len(current_texts) <= 1:\n",
        "            results[level] = pd.DataFrame({\n",
        "                'text': current_texts,\n",
        "                'embedding': embed_texts(current_texts),\n",
        "                'cluster': [0],\n",
        "                'metadata': current_metadata\n",
        "            })\n",
        "            logging.info(f\"Stopping at level {level} as we have only one summary\")\n",
        "            break\n",
        "\n",
        "    return results"
      ],
      "metadata": {
        "id": "gVvSauefro3k"
      },
      "execution_count": 16,
      "outputs": []
    },
    {
      "cell_type": "code",
      "source": [
        "def build_vectorstore(tree_results: Dict[int, pd.DataFrame]) -> FAISS:\n",
        "    \"\"\"Build a FAISS vectorstore from all texts in the RAPTOR tree.\"\"\"\n",
        "    all_texts = []\n",
        "    all_embeddings = []\n",
        "    all_metadatas = []\n",
        "\n",
        "    for level, df in tree_results.items():\n",
        "        all_texts.extend([str(text) for text in df['text'].tolist()])\n",
        "        all_embeddings.extend([embedding.tolist() if isinstance(embedding, np.ndarray) else embedding for embedding in df['embedding'].tolist()])\n",
        "        all_metadatas.extend(df['metadata'].tolist())\n",
        "\n",
        "    logging.info(f\"Building vectorstore with {len(all_texts)} texts\")\n",
        "\n",
        "    # Create Document objects manually to ensure correct types\n",
        "    documents = [Document(page_content=str(text), metadata=metadata)\n",
        "                 for text, metadata in zip(all_texts, all_metadatas)]\n",
        "\n",
        "    return FAISS.from_documents(documents, embeddings)"
      ],
      "metadata": {
        "id": "UV4ZQawlrqbz"
      },
      "execution_count": 17,
      "outputs": []
    },
    {
      "cell_type": "code",
      "source": [
        "def tree_traversal_retrieval(query: str, vectorstore: FAISS, k: int = 3) -> List[Document]:\n",
        "    \"\"\"Perform tree traversal retrieval.\"\"\"\n",
        "    query_embedding = embeddings.embed_query(query)\n",
        "\n",
        "    def retrieve_level(level: int, parent_ids: List[str] = None) -> List[Document]:\n",
        "        if parent_ids:\n",
        "            docs = vectorstore.similarity_search_by_vector_with_relevance_scores(\n",
        "                query_embedding,\n",
        "                k=k,\n",
        "                filter=lambda meta: meta['level'] == level and meta['id'] in parent_ids\n",
        "            )\n",
        "        else:\n",
        "            docs = vectorstore.similarity_search_by_vector_with_relevance_scores(\n",
        "                query_embedding,\n",
        "                k=k,\n",
        "                filter=lambda meta: meta['level'] == level\n",
        "            )\n",
        "\n",
        "        if not docs or level == 0:\n",
        "            return docs\n",
        "\n",
        "        child_ids = [doc.metadata.get('child_ids', []) for doc, _ in docs]\n",
        "        child_ids = [item for sublist in child_ids for item in sublist]  # Flatten the list\n",
        "\n",
        "        child_docs = retrieve_level(level - 1, child_ids)\n",
        "        return docs + child_docs\n",
        "\n",
        "    max_level = max(doc.metadata['level'] for doc in vectorstore.docstore.values())\n",
        "    return retrieve_level(max_level)"
      ],
      "metadata": {
        "id": "IoozbXSZrr6J"
      },
      "execution_count": 18,
      "outputs": []
    },
    {
      "cell_type": "code",
      "source": [
        "def create_retriever(vectorstore: FAISS) -> ContextualCompressionRetriever:\n",
        "    \"\"\"Create a retriever with contextual compression.\"\"\"\n",
        "    logging.info(\"Creating contextual compression retriever\")\n",
        "    base_retriever = vectorstore.as_retriever()\n",
        "\n",
        "    prompt = ChatPromptTemplate.from_template(\n",
        "        \"Given the following context and question, extract only the relevant information for answering the question:\\n\\n\"\n",
        "        \"Context: {context}\\n\"\n",
        "        \"Question: {question}\\n\\n\"\n",
        "        \"Relevant Information:\"\n",
        "    )\n",
        "\n",
        "    extractor = LLMChainExtractor.from_llm(llm, prompt=prompt)\n",
        "\n",
        "    return ContextualCompressionRetriever(\n",
        "        base_compressor=extractor,\n",
        "        base_retriever=base_retriever\n",
        "    )"
      ],
      "metadata": {
        "id": "ubkxXcQartzb"
      },
      "execution_count": 19,
      "outputs": []
    },
    {
      "cell_type": "code",
      "source": [
        "def hierarchical_retrieval(query: str, retriever: ContextualCompressionRetriever, max_level: int) -> List[Document]:\n",
        "    \"\"\"Perform hierarchical retrieval starting from the highest level, handling potential None values.\"\"\"\n",
        "    all_retrieved_docs = []\n",
        "\n",
        "    for level in range(max_level, -1, -1):\n",
        "        # Retrieve documents from the current level\n",
        "        level_docs = retriever.get_relevant_documents(\n",
        "            query,\n",
        "            filter=lambda meta: meta['level'] == level\n",
        "        )\n",
        "        all_retrieved_docs.extend(level_docs)\n",
        "\n",
        "        # If we've found documents, retrieve their children from the next level down\n",
        "        if level_docs and level > 0:\n",
        "            child_ids = [doc.metadata.get('child_ids', []) for doc in level_docs]\n",
        "            child_ids = [item for sublist in child_ids for item in sublist if item is not None]  # Flatten and filter None\n",
        "\n",
        "            if child_ids:  # Only modify query if there are valid child IDs\n",
        "                child_query = f\" AND id:({' OR '.join(str(id) for id in child_ids)})\"\n",
        "                query += child_query\n",
        "\n",
        "    return all_retrieved_docs"
      ],
      "metadata": {
        "id": "YSvtzbSLrvbF"
      },
      "execution_count": 20,
      "outputs": []
    },
    {
      "cell_type": "code",
      "source": [
        "def raptor_query(query: str, retriever: ContextualCompressionRetriever, max_level: int) -> Dict[str, Any]:\n",
        "    \"\"\"Process a query using the RAPTOR system with hierarchical retrieval.\"\"\"\n",
        "    logging.info(f\"Processing query: {query}\")\n",
        "\n",
        "    relevant_docs = hierarchical_retrieval(query, retriever, max_level)\n",
        "\n",
        "    doc_details = []\n",
        "    for i, doc in enumerate(relevant_docs, 1):\n",
        "        doc_details.append({\n",
        "            \"index\": i,\n",
        "            \"content\": doc.page_content,\n",
        "            \"metadata\": doc.metadata,\n",
        "            \"level\": doc.metadata.get('level', 'Unknown'),\n",
        "            \"similarity_score\": doc.metadata.get('score', 'N/A')\n",
        "        })\n",
        "\n",
        "    context = \"\\n\\n\".join([doc.page_content for doc in relevant_docs])\n",
        "\n",
        "    prompt = ChatPromptTemplate.from_template(\n",
        "        \"Given the following context, please answer the question:\\n\\n\"\n",
        "        \"Context: {context}\\n\\n\"\n",
        "        \"Question: {question}\\n\\n\"\n",
        "        \"Answer:\"\n",
        "    )\n",
        "    chain = LLMChain(llm=llm, prompt=prompt)\n",
        "    answer = chain.run(context=context, question=query)\n",
        "\n",
        "    logging.info(\"Query processing completed\")\n",
        "\n",
        "    result = {\n",
        "        \"query\": query,\n",
        "        \"retrieved_documents\": doc_details,\n",
        "        \"num_docs_retrieved\": len(relevant_docs),\n",
        "        \"context_used\": context,\n",
        "        \"answer\": answer,\n",
        "        \"model_used\": llm.model_name,\n",
        "    }\n",
        "\n",
        "    return result\n",
        "\n",
        "\n",
        "def print_query_details(result: Dict[str, Any]):\n",
        "    \"\"\"Print detailed information about the query process, including tree level metadata.\"\"\"\n",
        "    print(f\"Query: {result['query']}\")\n",
        "    print(f\"\\nNumber of documents retrieved: {result['num_docs_retrieved']}\")\n",
        "    print(f\"\\nRetrieved Documents:\")\n",
        "    for doc in result['retrieved_documents']:\n",
        "        print(f\"  Document {doc['index']}:\")\n",
        "        print(f\"    Content: {doc['content'][:100]}...\")  # Show first 100 characters\n",
        "        print(f\"    Similarity Score: {doc['similarity_score']}\")\n",
        "        print(f\"    Tree Level: {doc['metadata'].get('level', 'Unknown')}\")\n",
        "        print(f\"    Origin: {doc['metadata'].get('origin', 'Unknown')}\")\n",
        "        if 'child_docs' in doc['metadata']:\n",
        "            print(f\"    Number of Child Documents: {len(doc['metadata']['child_docs'])}\")\n",
        "        print()\n",
        "\n",
        "    print(f\"\\nContext used for answer generation:\")\n",
        "    print(result['context_used'])\n",
        "\n",
        "    print(f\"\\nGenerated Answer:\")\n",
        "    print(result['answer'])\n",
        "\n",
        "    print(f\"\\nModel Used: {result['model_used']}\")"
      ],
      "metadata": {
        "id": "Y5QMdrDNrxT-"
      },
      "execution_count": 21,
      "outputs": []
    },
    {
      "cell_type": "code",
      "source": [
        "path = \"data/Understanding_Climate_Change.pdf\""
      ],
      "metadata": {
        "id": "LmgZDwNwrzlD"
      },
      "execution_count": 10,
      "outputs": []
    },
    {
      "cell_type": "code",
      "source": [
        "loader = PyPDFLoader(path)\n",
        "documents = loader.load()\n",
        "texts = [doc.page_content for doc in documents]"
      ],
      "metadata": {
        "id": "UrSuJ_n1r1WD"
      },
      "execution_count": 12,
      "outputs": []
    },
    {
      "cell_type": "code",
      "source": [
        "# Build the RAPTOR tree\n",
        "tree_results = build_raptor_tree(texts)"
      ],
      "metadata": {
        "id": "BOIwnaFPsBRA"
      },
      "execution_count": 22,
      "outputs": []
    },
    {
      "cell_type": "code",
      "source": [
        "# Build vectorstore\n",
        "vectorstore = build_vectorstore(tree_results)"
      ],
      "metadata": {
        "id": "FyEpMJaysXPk"
      },
      "execution_count": 23,
      "outputs": []
    },
    {
      "cell_type": "code",
      "source": [
        "# Create retriever\n",
        "retriever = create_retriever(vectorstore)"
      ],
      "metadata": {
        "id": "J8Me-dEPsTz7"
      },
      "execution_count": 24,
      "outputs": []
    },
    {
      "cell_type": "code",
      "source": [
        "# Run the pipeline\n",
        "max_level = 3  # Adjust based on your tree depth\n",
        "query = \"What is the greenhouse effect?\"\n",
        "result = raptor_query(query, retriever, max_level)\n",
        "print_query_details(result)"
      ],
      "metadata": {
        "colab": {
          "base_uri": "https://localhost:8080/"
        },
        "id": "bfwPrGOVsVCV",
        "outputId": "47dd80fc-5cb8-4a41-f318-b217cae95243"
      },
      "execution_count": 25,
      "outputs": [
       
        {
          "output_type": "stream",
          "name": "stdout",
          "text": [
            "Query: What is the greenhouse effect?\n",
            "\n",
            "Number of documents retrieved: 16\n",
            "\n",
            "Retrieved Documents:\n",
            "  Document 1:\n",
            "    Content: The greenhouse effect is a process in which greenhouse gases, such as carbon dioxide (CO2), methane ...\n",
            "    Similarity Score: N/A\n",
            "    Tree Level: 0\n",
            "    Origin: original\n",
            "\n",
            "  Document 2:\n",
            "    Content: The greenhouse effect is not directly addressed in the provided context. However, the context does d...\n",
            "    Similarity Score: N/A\n",
            "    Tree Level: 0\n",
            "    Origin: original\n",
            "\n",
            "  Document 3:\n",
            "    Content: The greenhouse effect is not directly discussed in the provided context....\n",
            "    Similarity Score: N/A\n",
            "    Tree Level: 1\n",
            "    Origin: summary_of_cluster_2_level_0\n",
            "\n",
            "  Document 4:\n",
            "    Content: The primary cause of climate change is elevated greenhouse gases....\n",
            "    Similarity Score: N/A\n",
            "    Tree Level: 2\n",
            "    Origin: summary_of_cluster_2_level_1\n",
            "\n",
            "  Document 5:\n",
            "    Content: The greenhouse effect is a natural process where greenhouse gases, such as carbon dioxide (CO2), met...\n",
            "    Similarity Score: N/A\n",
            "    Tree Level: 0\n",
            "    Origin: original\n",
            "\n",
            "  Document 6:\n",
            "    Content: \"The use of synthetic fertilizers in agriculture releases nitrous oxide, a potent greenhouse gas. Pr...\n",
            "    Similarity Score: N/A\n",
            "    Tree Level: 0\n",
            "    Origin: original\n",
            "\n",
            "  Document 7:\n",
            "    Content: The greenhouse effect is the process by which certain gases in the Earth's atmosphere trap heat from...\n",
            "    Similarity Score: N/A\n",
            "    Tree Level: 2\n",
            "    Origin: summary_of_cluster_2_level_1\n",
            "\n",
            "  Document 8:\n",
            "    Content: The greenhouse effect is the primary cause of recent climate change. It is a natural process where c...\n",
            "    Similarity Score: N/A\n",
            "    Tree Level: 1\n",
            "    Origin: summary_of_cluster_2_level_0\n",
            "\n",
            "  Document 9:\n",
            "    Content: The greenhouse effect is a natural process where greenhouse gases, such as carbon dioxide (CO2), met...\n",
            "    Similarity Score: N/A\n",
            "    Tree Level: 0\n",
            "    Origin: original\n",
            "\n",
            "  Document 10:\n",
            "    Content: The greenhouse effect is not directly stated in the provided context. However, the context does ment...\n",
            "    Similarity Score: N/A\n",
            "    Tree Level: 0\n",
            "    Origin: original\n",
            "\n",
            "  Document 11:\n",
            "    Content: The greenhouse effect is the primary cause of modern climate change, where elevated greenhouse gases...\n",
            "    Similarity Score: N/A\n",
            "    Tree Level: 2\n",
            "    Origin: summary_of_cluster_2_level_1\n",
            "\n",
            "  Document 12:\n",
            "    Content: The primary cause of recent climate change is the increase in greenhouse gases in the atmosphere, wi...\n",
            "    Similarity Score: N/A\n",
            "    Tree Level: 1\n",
            "    Origin: summary_of_cluster_2_level_0\n",
            "\n",
            "  Document 13:\n",
            "    Content: The greenhouse effect is the process by which greenhouse gases, such as carbon dioxide (CO2), methan...\n",
            "    Similarity Score: N/A\n",
            "    Tree Level: 0\n",
            "    Origin: original\n",
            "\n",
            "  Document 14:\n",
            "    Content: The greenhouse effect is not directly discussed in the provided context....\n",
            "    Similarity Score: N/A\n",
            "    Tree Level: 0\n",
            "    Origin: original\n",
            "\n",
            "  Document 15:\n",
            "    Content: The greenhouse effect is not directly mentioned in the provided context....\n",
            "    Similarity Score: N/A\n",
            "    Tree Level: 1\n",
            "    Origin: summary_of_cluster_2_level_0\n",
            "\n",
            "  Document 16:\n",
            "    Content: The greenhouse effect is the primary cause of modern climate change, where elevated greenhouse gases...\n",
            "    Similarity Score: N/A\n",
            "    Tree Level: 2\n",
            "    Origin: summary_of_cluster_2_level_1\n",
            "\n",
            "\n",
            "Context used for answer generation:\n",
            "The greenhouse effect is a process in which greenhouse gases, such as carbon dioxide (CO2), methane (CH4), and nitrous oxide (N2O), trap heat from the sun, creating a \"greenhouse effect.\" This effect is essential for life on Earth, as it keeps the planet warm enough to support life.\n",
            "\n",
            "The greenhouse effect is not directly addressed in the provided context. However, the context does discuss various human activities and practices that contribute to climate change, which is influenced by the greenhouse effect. The greenhouse effect is a natural process where certain gases in Earth's atmosphere trap heat from the sun, keeping the planet warm enough to sustain life.\n",
            "\n",
            "The greenhouse effect is not directly discussed in the provided context.\n",
            "\n",
            "The primary cause of climate change is elevated greenhouse gases.\n",
            "\n",
            "The greenhouse effect is a natural process where greenhouse gases, such as carbon dioxide (CO2), methane (CH4), and nitrous oxide (N2O), trap heat from the sun, creating a \"greenhouse effect.\" This effect is essential for life on Earth, as it keeps the planet warm enough to support life.\n",
            "\n",
            "\"The use of synthetic fertilizers in agriculture releases nitrous oxide, a potent greenhouse gas. Practices such as precision farming and organic fertilizers can mitigate these emissions. The development of eco-friendly fertilizers and farming techniques is essential for reducing the agricultural sector's carbon footprint.\"\n",
            "\n",
            "\"id:(summary_1_2)\"\n",
            "\n",
            "The greenhouse effect is the process by which certain gases in the Earth's atmosphere trap heat from the sun, causing the planet's temperature to rise. This effect is essential for supporting life on Earth by maintaining a stable climate. However, the primary cause of the current climate change is an elevated greenhouse effect due to increased levels of greenhouse gases, primarily from human activities such as fossil fuel combustion and deforestation.\n",
            "id: summary_1_2\n",
            "\n",
            "The greenhouse effect is the primary cause of recent climate change. It is a natural process where certain gases in the Earth's atmosphere trap heat from the sun, keeping the planet warm enough to support life. However, human activities have increased the amount of these gases, particularly greenhouse gases, leading to an enhanced greenhouse effect and global warming.\n",
            "\n",
            "The greenhouse effect is a natural process where greenhouse gases, such as carbon dioxide (CO2), methane (CH4), and nitrous oxide (N2O), trap heat from the sun, creating a \"greenhouse effect.\" This effect is essential for life on Earth, as it keeps the planet warm enough to support life.\n",
            "\n",
            "The greenhouse effect is not directly stated in the provided context. However, the context does mention greenhouse gases, which are central to the greenhouse effect. Some relevant information includes:\n",
            "\n",
            "* Methane and nitrous oxide emissions from ruminant animals, manure, fertilizers, and rice cultivation can contribute to the greenhouse effect.\n",
            "* The agricultural sector's carbon footprint can be reduced through the development of eco-friendly fertilizers and farming techniques, which can help mitigate greenhouse gas emissions.\n",
            "\n",
            "The greenhouse effect is the primary cause of modern climate change, where elevated greenhouse gases trap heat in the Earth's atmosphere, leading to increased global temperatures, sea levels, and extreme weather events.\n",
            "\n",
            "The primary cause of recent climate change is the increase in greenhouse gases in the atmosphere, with fossil fuel burning and deforestation being major contributors.\n",
            "\n",
            "The greenhouse effect is the process by which greenhouse gases, such as carbon dioxide (CO2), methane (CH4), and nitrous oxide (N2O), trap heat from the sun, creating a \"greenhouse effect.\" This effect is essential for life on Earth, as it keeps the planet warm enough to support life.\n",
            "\n",
            "The greenhouse effect is not directly discussed in the provided context.\n",
            "\n",
            "The greenhouse effect is not directly mentioned in the provided context.\n",
            "\n",
            "The greenhouse effect is the primary cause of modern climate change, where elevated greenhouse gases trap heat in the Earth's atmosphere, leading to increased global temperatures.\n",
            "\n",
            "Generated Answer:\n",
            "The greenhouse effect is a natural process where certain gases in the Earth's atmosphere, known as greenhouse gases, trap heat from the sun, creating a \"greenhouse effect.\" This effect is essential for life on Earth, as it keeps the planet warm enough to support life. The primary greenhouse gases include carbon dioxide (CO2), methane (CH4), and nitrous oxide (N2O).\n",
            "\n",
            "Model Used: solar-pro\n"
          ]
        }
      ]
    }
  ]
}
