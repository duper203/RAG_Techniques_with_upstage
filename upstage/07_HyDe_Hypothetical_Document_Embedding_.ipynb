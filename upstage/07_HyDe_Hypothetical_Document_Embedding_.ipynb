{
  "nbformat": 4,
  "nbformat_minor": 0,
  "metadata": {
    "colab": {
      "provenance": [],
      "authorship_tag": "ABX9TyMVJl6UffFaZjZVUrDlIDqG",
      "include_colab_link": true
    },
    "kernelspec": {
      "name": "python3",
      "display_name": "Python 3"
    },
    "language_info": {
      "name": "python"
    }
  },
  "cells": [
    {
      "cell_type": "markdown",
      "metadata": {
        "id": "view-in-github",
        "colab_type": "text"
      },
      "source": [
        "<a href=\"https://colab.research.google.com/github/duper203/RAG_Techniques_with_upstage/blob/main/upstage/07_HyDe_Hypothetical_Document_Embedding_.ipynb\" target=\"_parent\"><img src=\"https://colab.research.google.com/assets/colab-badge.svg\" alt=\"Open In Colab\"/></a>"
      ]
    },
    {
      "cell_type": "markdown",
      "source": [
        "# Hypothetical Document Embedding (HyDE) in Document Retrieval\n",
        "\n",
        "\n",
        "## Key Components\n",
        "\n",
        "\n",
        "1. PDF processing and text chunking\n",
        "\n",
        "2. Vector store creation using FAISS and Upstage embeddings\n",
        "\n",
        "3. Language model for generating hypothetical documents\n",
        "\n",
        "4. Custom HyDERetriever class implementing the HyDE technique\n",
        "\n",
        "\n",
        "## Method Details\n",
        "\n",
        "1. Document Preprocessing and Vector Store Creation\n",
        "\n",
        "2. Hypothetical Document Generation\n",
        "\n",
        "3. Retrieval Process"
      ],
      "metadata": {
        "id": "_4vTJ_fSflby"
      }
    },
    {
      "cell_type": "code",
      "execution_count": null,
      "metadata": {
        "id": "SONz-Z8Ubxiv"
      },
      "outputs": [],
      "source": [
        "! pip3 install -qU langchain-upstage langchain langchain-community pypdf faiss-cpu"
      ]
    },
    {
      "cell_type": "code",
      "source": [
        "import os\n",
        "from google.colab import userdata\n",
        "\n",
        "os.environ[\"UPSTAGE_API_KEY\"] = userdata.get(\"UPSTAGE_API_KEY\")"
      ],
      "metadata": {
        "id": "z_2vs2-ob4R3"
      },
      "execution_count": 2,
      "outputs": []
    },
    {
      "cell_type": "markdown",
      "source": [
        "## Define document(s) path"
      ],
      "metadata": {
        "id": "DhaAjrWHY20s"
      }
    },
    {
      "cell_type": "code",
      "source": [
        "path = \"data/Understanding_Climate_Change.pdf\""
      ],
      "metadata": {
        "id": "YnUij4rJVjmw"
      },
      "execution_count": 12,
      "outputs": []
    },
    {
      "cell_type": "markdown",
      "source": [
        "## Functions Settings\n",
        "* `replace_t_with_space` : Replaces all tab characters ('\\t') with spaces\n",
        "* `text_wrap` : Wraps the input text to the specified width.\n",
        "* `show_context` : Display the contents of the provided context list\n",
        "* `encode_pdf` : Encodes a PDF book into a vector store using Upstage embeddings."
      ],
      "metadata": {
        "id": "JvKaF8W_ZAnp"
      }
    },
    {
      "cell_type": "code",
      "source": [
        "def replace_t_with_space(list_of_documents):\n",
        "    \"\"\"\n",
        "    Replaces all tab characters ('\\t') with spaces in the page content of each document.\n",
        "\n",
        "    Args:\n",
        "        list_of_documents: A list of document objects, each with a 'page_content' attribute.\n",
        "\n",
        "    Returns:\n",
        "        The modified list of documents with tab characters replaced by spaces.\n",
        "    \"\"\"\n",
        "\n",
        "    for doc in list_of_documents:\n",
        "        doc.page_content = doc.page_content.replace('\\t', ' ')  # Replace tabs with spaces\n",
        "    return list_of_documents\n"
      ],
      "metadata": {
        "id": "H8dpjA2lY4Gn"
      },
      "execution_count": null,
      "outputs": []
    },
    {
      "cell_type": "code",
      "source": [
        "def show_context(context):\n",
        "    \"\"\"\n",
        "    Display the contents of the provided context list.\n",
        "\n",
        "    Args:\n",
        "        context (list): A list of context items to be displayed.\n",
        "\n",
        "    Prints each context item in the list with a heading indicating its position.\n",
        "    \"\"\"\n",
        "    for i, c in enumerate(context):\n",
        "        print(f\"Context {i + 1}:\")\n",
        "        print(c)\n",
        "        print(\"\\n\")"
      ],
      "metadata": {
        "id": "TV9q7PgTY6Nd"
      },
      "execution_count": null,
      "outputs": []
    },
    {
      "cell_type": "code",
      "source": [
        "import textwrap\n",
        "\n",
        "def text_wrap(text, width=120):\n",
        "    \"\"\"\n",
        "    Wraps the input text to the specified width.\n",
        "\n",
        "    Args:\n",
        "        text (str): The input text to wrap.\n",
        "        width (int): The width at which to wrap the text.\n",
        "\n",
        "    Returns:\n",
        "        str: The wrapped text.\n",
        "    \"\"\"\n",
        "    return textwrap.fill(text, width=width)"
      ],
      "metadata": {
        "id": "has4e4RkXQ7j"
      },
      "execution_count": 24,
      "outputs": []
    },
    {
      "cell_type": "code",
      "source": [
        "from langchain.document_loaders import PyPDFLoader\n",
        "from langchain.text_splitter import RecursiveCharacterTextSplitter\n",
        "from langchain_upstage import UpstageEmbeddings\n",
        "from langchain.vectorstores import FAISS\n",
        "\n",
        "def encode_pdf(path, chunk_size=1000, chunk_overlap=200):\n",
        "    \"\"\"\n",
        "    Encodes a PDF book into a vector store using Upstage embeddings.\n",
        "\n",
        "    Args:\n",
        "        path: The path to the PDF file.\n",
        "        chunk_size: The desired size of each text chunk.\n",
        "        chunk_overlap: The amount of overlap between consecutive chunks.\n",
        "\n",
        "    Returns:\n",
        "        A FAISS vector store containing the encoded book content.\n",
        "    \"\"\"\n",
        "\n",
        "    # Load PDF documents\n",
        "    loader = PyPDFLoader(path)\n",
        "    documents = loader.load()\n",
        "\n",
        "    # Split documents into chunks\n",
        "    text_splitter = RecursiveCharacterTextSplitter(\n",
        "        chunk_size=chunk_size, chunk_overlap=chunk_overlap, length_function=len\n",
        "    )\n",
        "    texts = text_splitter.split_documents(documents)\n",
        "    cleaned_texts = replace_t_with_space(texts)\n",
        "\n",
        "    # Create embeddings and vector store\n",
        "    embeddings = UpstageEmbeddings(model=\"solar-embedding-1-large\")\n",
        "    vectorstore = FAISS.from_documents(cleaned_texts, embeddings)\n",
        "\n",
        "    return vectorstore"
      ],
      "metadata": {
        "id": "7-cmOpnJWLFY"
      },
      "execution_count": 9,
      "outputs": []
    },
    {
      "cell_type": "markdown",
      "source": [
        "## Define the HyDe retriever class - creating vector store, generating hypothetical document, and retrieving"
      ],
      "metadata": {
        "id": "Y0iu0hNPaAPx"
      }
    },
    {
      "cell_type": "code",
      "source": [
        "from langchain_upstage import ChatUpstage, UpstageEmbeddings\n",
        "from langchain.prompts import PromptTemplate\n",
        "class HyDERetriever:\n",
        "    def __init__(self, files_path, chunk_size=500, chunk_overlap=100):\n",
        "        self.llm = ChatUpstage(model=\"solar-pro\")\n",
        "\n",
        "        self.embeddings = UpstageEmbeddings(model=\"solar-embedding-1-large\")\n",
        "        self.chunk_size = chunk_size\n",
        "        self.chunk_overlap = chunk_overlap\n",
        "        self.vectorstore = encode_pdf(files_path, chunk_size=self.chunk_size, chunk_overlap=self.chunk_overlap)\n",
        "\n",
        "\n",
        "        self.hyde_prompt = PromptTemplate(\n",
        "            input_variables=[\"query\", \"chunk_size\"],\n",
        "            template=\"\"\"Given the question '{query}', generate a hypothetical document that directly answers this question. The document should be detailed and in-depth.\n",
        "            the document size has be exactly {chunk_size} characters.\"\"\",\n",
        "        )\n",
        "        self.hyde_chain = self.hyde_prompt | self.llm\n",
        "\n",
        "    def generate_hypothetical_document(self, query):\n",
        "        input_variables = {\"query\": query, \"chunk_size\": self.chunk_size}\n",
        "        return self.hyde_chain.invoke(input_variables).content\n",
        "\n",
        "    def retrieve(self, query, k=3):\n",
        "        hypothetical_doc = self.generate_hypothetical_document(query)\n",
        "        similar_docs = self.vectorstore.similarity_search(hypothetical_doc, k=k)\n",
        "        return similar_docs, hypothetical_doc"
      ],
      "metadata": {
        "id": "uwu4E2jCVnle"
      },
      "execution_count": 14,
      "outputs": []
    },
    {
      "cell_type": "markdown",
      "source": [
        "## Create a HyDe retriever instance"
      ],
      "metadata": {
        "id": "EXZyTTQJaDAP"
      }
    },
    {
      "cell_type": "code",
      "source": [
        "retriever = HyDERetriever(path)"
      ],
      "metadata": {
        "id": "0gHxeUR1XVUm"
      },
      "execution_count": 15,
      "outputs": []
    },
    {
      "cell_type": "markdown",
      "source": [
        "## Demonstrate on a use case"
      ],
      "metadata": {
        "id": "zWY83TLpaFCg"
      }
    },
    {
      "cell_type": "code",
      "source": [
        "test_query = \"What is the main cause of climate change?\"\n",
        "results, hypothetical_doc = retriever.retrieve(test_query)"
      ],
      "metadata": {
        "id": "Y7tShtocX9fr"
      },
      "execution_count": 16,
      "outputs": []
    },
    {
      "cell_type": "markdown",
      "source": [
        "## Plot the hypothetical document and the retrieved documents"
      ],
      "metadata": {
        "id": "A2eXQISDaG_J"
      }
    },
    {
      "cell_type": "code",
      "source": [
        "docs_content = [doc.page_content for doc in results]\n",
        "\n",
        "print(\"hypothetical_doc:\\n\")\n",
        "print(text_wrap(hypothetical_doc)+\"\\n\")\n",
        "show_context(docs_content)"
      ],
      "metadata": {
        "colab": {
          "base_uri": "https://localhost:8080/"
        },
        "id": "4DfMyYoSX_C1",
        "outputId": "49cde026-a97d-46e2-fa35-c9ddd266c7e7"
      },
      "execution_count": 25,
      "outputs": [
        {
          "output_type": "stream",
          "name": "stdout",
          "text": [
            "hypothetical_doc:\n",
            "\n",
            "Title: The Main Cause of Climate Change  Climate change, a significant global issue, is primarily caused by human\n",
            "activities, specifically greenhouse gas emissions. The primary culprit is carbon dioxide (CO2), released through burning\n",
            "fossil fuels (coal, oil, gas) for electricity, heat, and transportation.  Deforestation exacerbates the problem, as\n",
            "trees absorb CO2. Methane, another potent greenhouse gas, is emitted during agriculture (livestock, rice paddies) and\n",
            "waste management. Industrial processes and land use changes also contribute.  These gases trap heat in the atmosphere,\n",
            "causing Earth's temperature to rise, leading to severe consequences: melting ice caps, sea-level rise, extreme weather,\n",
            "and biodiversity loss.  In conclusion, human-induced greenhouse gas emissions, mainly CO2, are the main cause of climate\n",
            "change. Immediate action is necessary to mitigate its effects and ensure a sustainable future.  (495 characters)\n",
            "\n",
            "Context 1:\n",
            "predict future trends. The evidence overwhelmingly shows that recent changes are primarily \n",
            "driven by human activities, particularly the emission of greenhou se gases.  \n",
            "Chapter 2: Causes of Climate Change  \n",
            "Greenhouse Gases  \n",
            "The primary cause of recent climate change is the increase in greenhouse gases in the \n",
            "atmosphere. Greenhouse gases, such as carbon dioxide (CO2), methane (CH4), and nitrous \n",
            "oxide (N2O), trap heat from the sun, creating a \"greenhouse effect.\" This effect is  essential\n",
            "\n",
            "\n",
            "Context 2:\n",
            "crucial role in sequestering carbon. Logging and land -use changes in these regions contribute \n",
            "to climate change. These forests are vital for regulating the Earth' s climate and supporting \n",
            "indigenous communities and wildlife.  \n",
            "Agriculture  \n",
            "Agriculture contributes to climate change through methane emissions from livestock, rice \n",
            "paddies, and the use of synthetic fertilizers. Methane is a potent greenhouse gas with a much\n",
            "\n",
            "\n",
            "Context 3:\n",
            "oxide (N2O), trap heat from the sun, creating a \"greenhouse effect.\" This effect is  essential \n",
            "for life on Earth, as it keeps the planet warm enough to support life. However, human \n",
            "activities have intensified this natural process, leading to a warmer climate.  \n",
            "Fossil Fuels  \n",
            "Burning fossil fuels for energy releases large amounts of CO2. This includes coal, oil, and \n",
            "natural gas used for electricity, heating, and transportation. The industrial revolution marked\n",
            "\n",
            "\n"
          ]
        }
      ]
    }
  ]
}