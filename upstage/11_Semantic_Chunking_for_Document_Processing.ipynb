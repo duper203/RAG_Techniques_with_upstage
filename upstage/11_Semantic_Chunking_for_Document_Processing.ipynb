{
  "nbformat": 4,
  "nbformat_minor": 0,
  "metadata": {
    "colab": {
      "provenance": [],
      "authorship_tag": "ABX9TyPZyCcQ9kO8FJpA+jlCydld",
      "include_colab_link": true
    },
    "kernelspec": {
      "name": "python3",
      "display_name": "Python 3"
    },
    "language_info": {
      "name": "python"
    }
  },
  "cells": [
    {
      "cell_type": "markdown",
      "metadata": {
        "id": "view-in-github",
        "colab_type": "text"
      },
      "source": [
        "<a href=\"https://colab.research.google.com/github/duper203/RAG_Techniques_with_upstage/blob/main/upstage/11_Semantic_Chunking_for_Document_Processing.ipynb\" target=\"_parent\"><img src=\"https://colab.research.google.com/assets/colab-badge.svg\" alt=\"Open In Colab\"/></a>"
      ]
    },
    {
      "cell_type": "markdown",
      "source": [
        "# Semantic Chunking for Document Processing\n",
        "\n",
        "\n",
        "\n",
        "\n",
        "\n",
        "\n",
        "## Key Components\n",
        "\n",
        "1. PDF processing and text extraction\n",
        "2. Semantic chunking using LangChain's SemanticChunker\n",
        "3. Vector store creation using FAISS and Upstage embeddings\n",
        "4. Retriever setup for querying the processed documents\n",
        "\n",
        "\n",
        "\n",
        "\n",
        "\n",
        "## Method Details\n",
        "\n",
        "1. Document Preprocessing\n",
        "The PDF is read and converted to a string using a custom read_pdf_to_string function.\n",
        "\n",
        "2. Semantic Chunking\n",
        "\n",
        "  1) Utilizes LangChain's SemanticChunker with Upstage embeddings\n",
        "\n",
        "  2) Three breakpoint types are available:\n",
        "  * 'percentile': Splits at differences greater than the X percentile.\n",
        "  * 'standard_deviation': Splits at differences greater than X standard deviations.\n",
        "  * 'interquartile': Uses the interquartile distance to determine split points.\n",
        "\n",
        "3. Vector Store Creation\n"
      ],
      "metadata": {
        "id": "_4vTJ_fSflby"
      }
    },
    {
      "cell_type": "code",
      "source": [
        "! pip3 install -qU langchain-upstage langchain-community pypdf faiss-cpu langchain_experimental"
      ],
      "metadata": {
        "id": "MFxiQBMlWmjl"
      },
      "execution_count": null,
      "outputs": []
    },
    {
      "cell_type": "code",
      "source": [
        "import os\n",
        "from google.colab import userdata\n",
        "\n",
        "os.environ[\"UPSTAGE_API_KEY\"] = userdata.get(\"UPSTAGE_API_KEY\")"
      ],
      "metadata": {
        "id": "z_2vs2-ob4R3"
      },
      "execution_count": 2,
      "outputs": []
    },
    {
      "cell_type": "markdown",
      "source": [
        "## Define document(s) path & Read PDf to string"
      ],
      "metadata": {
        "id": "DhaAjrWHY20s"
      }
    },
    {
      "cell_type": "code",
      "source": [
        "path = \"data/Understanding_Climate_Change.pdf\""
      ],
      "metadata": {
        "id": "fSlBtO2-UuAq"
      },
      "execution_count": 3,
      "outputs": []
    },
    {
      "cell_type": "code",
      "source": [
        "import fitz\n",
        "def read_pdf_to_string(path):\n",
        "    \"\"\"\n",
        "    Read a PDF document from the specified path and return its content as a string.\n",
        "\n",
        "    Args:\n",
        "        path (str): The file path to the PDF document.\n",
        "\n",
        "    Returns:\n",
        "        str: The concatenated text content of all pages in the PDF document.\n",
        "\n",
        "    The function uses the 'fitz' library (PyMuPDF) to open the PDF document, iterate over each page,\n",
        "    extract the text content from each page, and append it to a single string.\n",
        "    \"\"\"\n",
        "    # Open the PDF document located at the specified path\n",
        "    doc = fitz.open(path)\n",
        "    content = \"\"\n",
        "    # Iterate over each page in the document\n",
        "    for page_num in range(len(doc)):\n",
        "        # Get the current page\n",
        "        page = doc[page_num]\n",
        "        # Extract the text content from the current page and append it to the content string\n",
        "        content += page.get_text()\n",
        "    return content"
      ],
      "metadata": {
        "id": "mgAqRRJ4VJ3z"
      },
      "execution_count": 5,
      "outputs": []
    },
    {
      "cell_type": "code",
      "source": [
        "content = read_pdf_to_string(path)"
      ],
      "metadata": {
        "id": "_xVuZ-diU6r2"
      },
      "execution_count": 6,
      "outputs": []
    },
    {
      "cell_type": "markdown",
      "source": [
        "## Breakpoint types:\n",
        "\n",
        "* 'percentile': all differences between sentences are calculated, and then any difference greater than the X percentile is split.\n",
        "* 'standard_deviation': any difference greater than X standard deviations is split.\n",
        "* 'interquartile': the interquartile distance is used to split chunks."
      ],
      "metadata": {
        "id": "N7WQBCcUgLL5"
      }
    },
    {
      "cell_type": "code",
      "source": [
        "from langchain_experimental.text_splitter import SemanticChunker\n",
        "from langchain_upstage import UpstageEmbeddings\n",
        "\n",
        "embeddings = UpstageEmbeddings(model=\"solar-embedding-1-large\")\n",
        "\n",
        "text_splitter = SemanticChunker(embeddings, breakpoint_threshold_type='percentile', breakpoint_threshold_amount=90) # chose which embeddings and breakpoint type and threshold to use"
      ],
      "metadata": {
        "id": "etyb9_9feY70"
      },
      "execution_count": 9,
      "outputs": []
    },
    {
      "cell_type": "markdown",
      "source": [
        "## Split original text to semantic chunks"
      ],
      "metadata": {
        "id": "Bw9qOhuxgGiK"
      }
    },
    {
      "cell_type": "code",
      "source": [
        "docs = text_splitter.create_documents([content])"
      ],
      "metadata": {
        "id": "cnVUP3fQey_u"
      },
      "execution_count": 10,
      "outputs": []
    },
    {
      "cell_type": "markdown",
      "source": [
        "## Create vector store and retriever"
      ],
      "metadata": {
        "id": "DMgfb_zTfylz"
      }
    },
    {
      "cell_type": "code",
      "source": [
        "from langchain.vectorstores import FAISS\n",
        "vectorstore = FAISS.from_documents(docs, embeddings)\n",
        "chunks_query_retriever = vectorstore.as_retriever(search_kwargs={\"k\": 2})"
      ],
      "metadata": {
        "id": "kEAxEynTe4FW"
      },
      "execution_count": 11,
      "outputs": []
    },
    {
      "cell_type": "markdown",
      "source": [
        "## Test the retriever\n",
        "\n",
        "`retrieve_context_per_question`\n",
        "`show_context`\n",
        "from helper_function.py"
      ],
      "metadata": {
        "id": "g8VRIF79ffyW"
      }
    },
    {
      "cell_type": "code",
      "source": [
        "test_query = \"What is the main cause of climate change?\"\n",
        "context = retrieve_context_per_question(test_query, chunks_query_retriever)\n",
        "show_context(context)"
      ],
      "metadata": {
        "colab": {
          "base_uri": "https://localhost:8080/"
        },
        "id": "z9dtl5LLe6Fp",
        "outputId": "88f22566-e9cf-4a49-828c-5a744a5c0f35"
      },
      "execution_count": 14,
      "outputs": [
        {
          "output_type": "stream",
          "name": "stderr",
          "text": [
            "<ipython-input-12-0e780d2d1984>:15: LangChainDeprecationWarning: The method `BaseRetriever.get_relevant_documents` was deprecated in langchain-core 0.1.46 and will be removed in 1.0. Use :meth:`~invoke` instead.\n",
            "  docs = chunks_query_retriever.get_relevant_documents(question)\n"
          ]
        },
        {
          "output_type": "stream",
          "name": "stdout",
          "text": [
            "Context 1:\n",
            "The Intergovernmental Panel on Climate Change (IPCC) has \n",
            "documented these changes extensively. Ice core samples, tree rings, and ocean sediments \n",
            "provide a historical record that scientists use to understand past climate conditions and \n",
            "predict future trends. The evidence overwhelmingly shows that recent changes are primarily \n",
            "driven by human activities, particularly the emission of greenhouse gases. Chapter 2: Causes of Climate Change \n",
            "Greenhouse Gases \n",
            "The primary cause of recent climate change is the increase in greenhouse gases in the \n",
            "atmosphere. Greenhouse gases, such as carbon dioxide (CO2), methane (CH4), and nitrous \n",
            "oxide (N2O), trap heat from the sun, creating a \"greenhouse effect.\" This effect is essential \n",
            "for life on Earth, as it keeps the planet warm enough to support life. However, human \n",
            "activities have intensified this natural process, leading to a warmer climate. Fossil Fuels \n",
            "Burning fossil fuels for energy releases large amounts of CO2. This includes coal, oil, and \n",
            "natural gas used for electricity, heating, and transportation. The industrial revolution marked \n",
            "the beginning of a significant increase in fossil fuel consumption, which continues to rise \n",
            "today. Coal \n",
            "Coal is the most carbon-intensive fossil fuel, and its use for electricity generation is a major \n",
            "source of CO2 emissions. Despite a decline in some regions, coal remains a significant \n",
            "energy source globally. It is mined extensively in countries like China, India, and the United \n",
            "States, contributing significantly to their energy supplies and CO2 footprints. Oil \n",
            "Oil is used primarily for transportation fuels, such as gasoline and diesel. The combustion of \n",
            "oil products releases significant amounts of CO2 and other pollutants, contributing to climate \n",
            "change and air quality issues. The global oil industry is vast, involving extraction, refining, \n",
            "and distribution, with significant geopolitical and economic implications. Natural Gas \n",
            "Natural gas is the least carbon-intensive fossil fuel and is often seen as a \"bridge fuel\" to a \n",
            "lower-carbon future. However, its extraction and use still contribute to greenhouse gas \n",
            "emissions, particularly methane, which is a potent greenhouse gas. Innovations in fracking \n",
            "technology have made natural gas more accessible, but this comes with environmental and \n",
            "health concerns. Deforestation \n",
            "Forests act as carbon sinks, absorbing CO2 from the atmosphere. When trees are cut down \n",
            "for timber or to clear land for agriculture, this stored carbon is released back into the \n",
            "atmosphere. Deforestation reduces the number of trees that can absorb CO2, exacerbating the \n",
            "greenhouse effect. Tropical Deforestation \n",
            "Tropical rainforests are particularly important for carbon storage. Deforestation in the \n",
            "Amazon, Congo Basin, and Southeast Asia has significant impacts on global carbon cycles \n",
            "and biodiversity. These regions are often cleared for agriculture, logging, and mining, leading \n",
            "to habitat loss and species extinction. Boreal Forests \n",
            "Boreal forests, found in the northern regions of North America, Europe, and Asia, also play a \n",
            "crucial role in sequestering carbon. Logging and land-use changes in these regions contribute \n",
            "to climate change.\n",
            "\n",
            "\n",
            "Context 2:\n",
            "These forests are vital for regulating the Earth's climate and supporting \n",
            "indigenous communities and wildlife. Agriculture \n",
            "Agriculture contributes to climate change through methane emissions from livestock, rice \n",
            "paddies, and the use of synthetic fertilizers. Methane is a potent greenhouse gas with a much \n",
            "higher heat-trapping capability than CO2, albeit in smaller quantities. Livestock Emissions \n",
            "Ruminant animals, such as cows and sheep, produce methane during digestion. Manure \n",
            "management practices also contribute to methane and nitrous oxide emissions. Innovations in \n",
            "livestock feeding and waste management can help mitigate these emissions. Rice Cultivation \n",
            "Flooded rice paddies create anaerobic conditions that lead to methane production. Improved \n",
            "water management and rice varieties can help reduce these emissions. Research into \n",
            "sustainable rice farming practices is crucial for balancing food security and climate goals. Fertilizers \n",
            "The use of synthetic fertilizers in agriculture releases nitrous oxide, a potent greenhouse gas. Practices such as precision farming and organic fertilizers can mitigate these emissions. The \n",
            "development of eco-friendly fertilizers and farming techniques is essential for reducing the \n",
            "agricultural sector's carbon footprint. Chapter 3: Effects of Climate Change \n",
            "The effects of climate change are already being felt around the world and are projected to \n",
            "intensify in the coming decades. These effects include: \n",
            "Rising Temperatures \n",
            "Global temperatures have risen by about 1.2 degrees Celsius (2.2 degrees Fahrenheit) since \n",
            "the late 19th century. This warming is not uniform, with some regions experiencing more \n",
            "significant increases than others. Heatwaves \n",
            "Heatwaves are becoming more frequent and severe, posing risks to human health, agriculture, \n",
            "and infrastructure. Cities are particularly vulnerable due to the \"urban heat island\" effect. Heatwaves can lead to heat-related illnesses and exacerbate existing health conditions. Changing Seasons \n",
            "Climate change is altering the timing and length of seasons, affecting ecosystems and human \n",
            "activities. For example, spring is arriving earlier, and winters are becoming shorter and \n",
            "milder in many regions. This shift disrupts plant and animal life cycles and agricultural \n",
            "practices. Melting Ice and Rising Sea Levels \n",
            "Warmer temperatures are causing polar ice caps and glaciers to melt, contributing to rising \n",
            "sea levels. Sea levels have risen by about 20 centimeters (8 inches) in the past century, \n",
            "threatening coastal communities and ecosystems. Polar Ice Melt \n",
            "The Arctic is warming at more than twice the global average rate, leading to significant ice \n",
            "loss. Antarctic ice sheets are also losing mass, contributing to sea level rise. This melting \n",
            "affects global ocean currents and weather patterns. Glacial Retreat \n",
            "Glaciers around the world are retreating, affecting water supplies for millions of people. Regions dependent on glacial meltwater, such as the Himalayas and the Andes, face \n",
            "particular risks. Glacial melt also impacts hydropower generation and agriculture. Coastal Erosion \n",
            "Rising sea levels and increased storm surges are accelerating coastal erosion, threatening \n",
            "homes, infrastructure, and ecosystems. Low-lying islands and coastal regions are especially \n",
            "vulnerable.\n",
            "\n",
            "\n"
          ]
        }
      ]
    }
  ]
}