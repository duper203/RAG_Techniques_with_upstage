{
  "nbformat": 4,
  "nbformat_minor": 0,
  "metadata": {
    "colab": {
      "provenance": [],
      "authorship_tag": "ABX9TyMZ0VfYf+F9/D5kD+tB2+pY",
      "include_colab_link": true
    },
    "kernelspec": {
      "name": "python3",
      "display_name": "Python 3"
    },
    "language_info": {
      "name": "python"
    }
  },
  "cells": [
    {
      "cell_type": "markdown",
      "metadata": {
        "id": "view-in-github",
        "colab_type": "text"
      },
      "source": [
        "<a href=\"https://colab.research.google.com/github/duper203/RAG_Techniques_with_upstage/blob/main/upstage/15_reranking.ipynb\" target=\"_parent\"><img src=\"https://colab.research.google.com/assets/colab-badge.svg\" alt=\"Open In Colab\"/></a>"
      ]
    },
    {
      "cell_type": "markdown",
      "source": [
        "# Reranking Methods in RAG Systems\n",
        "\n",
        "\n",
        "\n",
        "\n",
        "\n",
        "\n",
        "## Key Components\n",
        "\n",
        "Reranking systems typically include the following components:\n",
        "\n",
        "\n",
        "1. Initial Retriever: Often a vector store using embedding-based similarity search.\n",
        "2. Reranking Model: This can be either\n",
        "  * A Large Language Model (LLM) for scoring relevance\n",
        "  * A Cross-Encoder model specifically trained for relevance assessment\n",
        "3. Scoring Mechanism: A method to assign relevance scores to documents\n",
        "4. Sorting and Selection Logic: To reorder documents based on new scores\n",
        "\n",
        "\n",
        "\n",
        "\n",
        "\n",
        "## Method Details\n",
        "\n",
        "1. Initial Retrieval: Fetch an initial set of potentially relevant documents.\n",
        "\n",
        "\n",
        "2. Pair Creation: Form query-document pairs for each retrieved document.\n",
        "\n",
        "\n",
        "3. Scoring:\n",
        "\n",
        "  * LLM Method: Use prompts to ask the LLM to rate document relevance.\n",
        "  * Cross-Encoder Method: Feed query-document pairs directly into the model.      \n",
        "\n",
        "4. Score Interpretation: Parse and normalize the relevance scores.\n",
        "\n",
        "5. Reordering: Sort documents based on their new relevance scores.\n",
        "\n",
        "6. Selection: Choose the top K documents from the reordered list."
      ],
      "metadata": {
        "id": "_4vTJ_fSflby"
      }
    },
    {
      "cell_type": "code",
      "source": [
        "! pip3 install -qU langchain-upstage langchain langchain-community faiss-cpu sentence_transformers"
      ],
      "metadata": {
        "id": "MFxiQBMlWmjl"
      },
      "execution_count": null,
      "outputs": []
    },
    {
      "cell_type": "code",
      "source": [
        "import os\n",
        "from google.colab import userdata\n",
        "\n",
        "from langchain_upstage import UpstageEmbeddings, ChatUpstage\n",
        "from langchain.docstore.document import Document\n",
        "from typing import List, Dict, Any, Tuple\n",
        "from langchain_openai import ChatOpenAI\n",
        "from langchain.chains import RetrievalQA\n",
        "from langchain_core.retrievers import BaseRetriever\n",
        "from sentence_transformers import CrossEncoder\n",
        "\n",
        "from langchain.prompts import PromptTemplate\n",
        "from pydantic import BaseModel, Field\n",
        "\n",
        "os.environ[\"UPSTAGE_API_KEY\"] = userdata.get(\"UPSTAGE_API_KEY\")"
      ],
      "metadata": {
        "id": "z_2vs2-ob4R3"
      },
      "execution_count": null,
      "outputs": []
    },
    {
      "cell_type": "markdown",
      "source": [
        "## Define document(s) path & Read PDf to string"
      ],
      "metadata": {
        "id": "DhaAjrWHY20s"
      }
    },
    {
      "cell_type": "code",
      "source": [
        "path = \"data/Understanding_Climate_Change.pdf\""
      ],
      "metadata": {
        "id": "fSlBtO2-UuAq"
      },
      "execution_count": null,
      "outputs": []
    },
    {
      "cell_type": "markdown",
      "source": [
        "## Create a vector store"
      ],
      "metadata": {
        "id": "7eA-1cf2j9y_"
      }
    },
    {
      "cell_type": "code",
      "source": [
        "from langchain.document_loaders import PyPDFLoader\n",
        "from langchain.text_splitter import RecursiveCharacterTextSplitter\n",
        "from langchain.vectorstores import FAISS\n",
        "\n",
        "def encode_pdf(path, chunk_size=1000, chunk_overlap=200):\n",
        "    \"\"\"\n",
        "    Encodes a PDF book into a vector store using OpenAI embeddings.\n",
        "\n",
        "    Args:\n",
        "        path: The path to the PDF file.\n",
        "        chunk_size: The desired size of each text chunk.\n",
        "        chunk_overlap: The amount of overlap between consecutive chunks.\n",
        "\n",
        "    Returns:\n",
        "        A FAISS vector store containing the encoded book content.\n",
        "    \"\"\"\n",
        "\n",
        "    # Load PDF documents\n",
        "    loader = PyPDFLoader(path)\n",
        "    documents = loader.load()\n",
        "\n",
        "    # Split documents into chunks\n",
        "    text_splitter = RecursiveCharacterTextSplitter(\n",
        "        chunk_size=chunk_size, chunk_overlap=chunk_overlap, length_function=len\n",
        "    )\n",
        "    texts = text_splitter.split_documents(documents)\n",
        "    cleaned_texts = replace_t_with_space(texts)\n",
        "\n",
        "    # Create embeddings and vector store\n",
        "    embeddings = UpstageEmbeddings(model=\"solar-embedding-1-large\")\n",
        "    vectorstore = FAISS.from_documents(cleaned_texts, embeddings)\n",
        "\n",
        "    return vectorstore\n",
        "def replace_t_with_space(list_of_documents):\n",
        "    \"\"\"\n",
        "    Replaces all tab characters ('\\t') with spaces in the page content of each document.\n",
        "\n",
        "    Args:\n",
        "        list_of_documents: A list of document objects, each with a 'page_content' attribute.\n",
        "\n",
        "    Returns:\n",
        "        The modified list of documents with tab characters replaced by spaces.\n",
        "    \"\"\"\n",
        "\n",
        "    for doc in list_of_documents:\n",
        "        doc.page_content = doc.page_content.replace('\\t', ' ')  # Replace tabs with spaces\n",
        "    return list_of_documents"
      ],
      "metadata": {
        "id": "fIjUgPG9hsg-"
      },
      "execution_count": null,
      "outputs": []
    },
    {
      "cell_type": "code",
      "source": [
        "vector_store = encode_pdf(path)"
      ],
      "metadata": {
        "id": "_xVuZ-diU6r2"
      },
      "execution_count": null,
      "outputs": []
    },
    {
      "cell_type": "markdown",
      "source": [
        "## Create a custom reranking function"
      ],
      "metadata": {
        "id": "N7WQBCcUgLL5"
      }
    },
    {
      "cell_type": "code",
      "source": [
        "from openai import OpenAI\n",
        "class RatingScore(BaseModel):\n",
        "    relevance_score: float = Field(..., description=\"The relevance score of a document to a query.\")\n",
        "\n",
        "def rerank_documents(query: str, docs: List[Document], top_n: int = 3) -> List[Document]:\n",
        "    prompt_template = PromptTemplate(\n",
        "        input_variables=[\"query\", \"doc\"],\n",
        "        template=\"\"\"On a scale of 1-10, rate the relevance of the following document to the query. Consider the specific context and intent of the query, not just keyword matches.\n",
        "        Query: {query}\n",
        "        Document: {doc}\n",
        "        Relevance Score:\"\"\"\n",
        "    )\n",
        "    llm = ChatUpstage(model='solar-pro')\n",
        "\n",
        "    scored_docs = []\n",
        "    for doc in docs:\n",
        "        input_data = {\"query\": query, \"doc\": doc.page_content}\n",
        "        prompt = prompt_template.format(query=query, doc=doc.page_content)\n",
        "\n",
        "        # Call the LLM with the generated prompt\n",
        "        response = llm(prompt)\n",
        "        score_text = response.content.strip()\n",
        "\n",
        "        try:\n",
        "            # Extract and parse the score from the response\n",
        "            score = float(score_text)\n",
        "        except ValueError:\n",
        "            score = 0  # Default score if parsing fails\n",
        "        scored_docs.append((doc, score))\n",
        "\n",
        "    # Sort and rerank documents based on their scores\n",
        "    reranked_docs = sorted(scored_docs, key=lambda x: x[1], reverse=True)\n",
        "    return [doc for doc, _ in reranked_docs[:top_n]]"
      ],
      "metadata": {
        "id": "etyb9_9feY70"
      },
      "execution_count": null,
      "outputs": []
    },
    {
      "cell_type": "markdown",
      "source": [
        "## Example usage of the reranking function with a sample query relevant to the document"
      ],
      "metadata": {
        "id": "Bw9qOhuxgGiK"
      }
    },
    {
      "cell_type": "code",
      "source": [
        "query = \"What are the impacts of climate change on biodiversity?\"\n",
        "initial_docs = vector_store.similarity_search(query, k=15)\n",
        "reranked_docs = rerank_documents(query, initial_docs)\n",
        "\n",
        "# print first 3 initial documents\n",
        "print(\"Top initial documents:\")\n",
        "for i, doc in enumerate(initial_docs[:3]):\n",
        "    print(f\"\\nDocument {i+1}:\")\n",
        "    print(doc.page_content[:200] + \"...\")  # Print first 200 characters of each document\n",
        "\n",
        "\n",
        "# Print results\n",
        "print(f\"Query: {query}\\n\")\n",
        "print(\"Top reranked documents:\")\n",
        "for i, doc in enumerate(reranked_docs):\n",
        "    print(f\"\\nDocument {i+1}:\")\n",
        "    print(doc.page_content[:200] + \"...\")  # Print first 200 characters of each document"
      ],
      "metadata": {
        "id": "cnVUP3fQey_u",
        "colab": {
          "base_uri": "https://localhost:8080/"
        },
        "outputId": "345a09fc-1919-40dc-f364-a817fab4d54c"
      },
      "execution_count": null,
      "outputs": [
        {
          "output_type": "stream",
          "name": "stdout",
          "text": [
            "Top initial documents:\n",
            "\n",
            "Document 1:\n",
            "Climate change is altering terrestrial ecosystems by shifting habitat ranges, changing species \n",
            "distributions, and impacting ecosystem functions. Forests, grasslands, and deserts are \n",
            "experiencing shi...\n",
            "\n",
            "Document 2:\n",
            "cultural perceptions.  \n",
            "Youth Engagement  \n",
            "Youth are vital stakeholders in climate action. Empowering young people through education, \n",
            "activism, and leadership opportunities can drive transformative c...\n",
            "\n",
            "Document 3:\n",
            "Freshwater Ecosystems  \n",
            "Freshwater ecosystems, including rivers, lakes, and wetlands, are affected by changes in \n",
            "precipitation patterns, temperature, and water flow. These changes can lead to altered...\n",
            "Query: What are the impacts of climate change on biodiversity?\n",
            "\n",
            "Top reranked documents:\n",
            "\n",
            "Document 1:\n",
            "protection, and habitat creation.  \n",
            "Climate -Resilient Conservation  \n",
            "Conservation strategies must account for climate change impacts to be effective. This \n",
            "includes identifying climate refugia, areas...\n",
            "\n",
            "Document 2:\n",
            "Freshwater Ecosystems  \n",
            "Freshwater ecosystems, including rivers, lakes, and wetlands, are affected by changes in \n",
            "precipitation patterns, temperature, and water flow. These changes can lead to altered...\n",
            "\n",
            "Document 3:\n",
            "rehabilitation. Engaging local communities in restoration projects ensures sust ainability and \n",
            "long-term success.  \n",
            "Ex-Situ Conservation  \n",
            "Ex-situ conservation involves protecting species outside the...\n"
          ]
        }
      ]
    },
    {
      "cell_type": "markdown",
      "source": [
        "## Create a custom retriever based on our reranker"
      ],
      "metadata": {
        "id": "XfoVvyWat-Xe"
      }
    },
    {
      "cell_type": "code",
      "source": [
        "# Create a custom retriever class\n",
        "class CustomRetriever(BaseRetriever, BaseModel):\n",
        "\n",
        "    vectorstore: Any = Field(description=\"Vector store for initial retrieval\")\n",
        "\n",
        "    class Config:\n",
        "        arbitrary_types_allowed = True\n",
        "\n",
        "    def get_relevant_documents(self, query: str, num_docs=2) -> List[Document]:\n",
        "        initial_docs = self.vectorstore.similarity_search(query, k=30)\n",
        "        return rerank_documents(query, initial_docs, top_n=num_docs)\n",
        "\n",
        "\n",
        "# Create the custom retriever\n",
        "custom_retriever = CustomRetriever(vectorstore=vector_store)\n",
        "\n",
        "# Create an LLM for answering questions\n",
        "llm = ChatUpstage(model=\"solar-pro\")\n",
        "\n",
        "# Create the RetrievalQA chain with the custom retriever\n",
        "qa_chain = RetrievalQA.from_chain_type(\n",
        "    llm=llm,\n",
        "    chain_type=\"stuff\",\n",
        "    retriever=custom_retriever,\n",
        "    return_source_documents=True\n",
        ")"
      ],
      "metadata": {
        "id": "vNKBXdgouA5m"
      },
      "execution_count": null,
      "outputs": []
    },
    {
      "cell_type": "markdown",
      "source": [
        "## Example query"
      ],
      "metadata": {
        "id": "wbdtqtsGuWZD"
      }
    },
    {
      "cell_type": "code",
      "source": [
        "result = qa_chain({\"query\": query})\n",
        "\n",
        "print(f\"\\nQuestion: {query}\")\n",
        "print(f\"Answer: {result['result']}\")\n",
        "print(\"\\nRelevant source documents:\")\n",
        "for i, doc in enumerate(result[\"source_documents\"]):\n",
        "    print(f\"\\nDocument {i+1}:\")\n",
        "    print(doc.page_content[:200] + \"...\")  # Print first 200 characters of each document\n"
      ],
      "metadata": {
        "colab": {
          "base_uri": "https://localhost:8080/"
        },
        "id": "hfSDfcUFuadA",
        "outputId": "d7c309ac-b2aa-419a-b371-4d235ead3759"
      },
      "execution_count": null,
      "outputs": [
        {
          "output_type": "stream",
          "name": "stderr",
          "text": [
            "<ipython-input-31-e4deb01cf6d9>:1: LangChainDeprecationWarning: The method `Chain.__call__` was deprecated in langchain 0.1.0 and will be removed in 1.0. Use :meth:`~invoke` instead.\n",
            "  result = qa_chain({\"query\": query})\n"
          ]
        },
        {
          "output_type": "stream",
          "name": "stdout",
          "text": [
            "\n",
            "Question: What are the impacts of climate change on biodiversity?\n",
            "Answer: Climate change impacts biodiversity in various ways. It affects terrestrial ecosystems by \n",
            "shifting habitat ranges, changing species distributions, and impacting ecosystem functions. \n",
            "Forests, grasslands, and deserts are all affected. Freshwater ecosystems, including rivers, \n",
            "lakes, and wetlands, also experience changes such as altered water quality, habitat loss, and \n",
            "reduced biodiversity due to shifts in precipitation patterns, temperature, and water flow. \n",
            "Freshwater species, including fish and amphibians, are particularly at risk.\n",
            "\n",
            "Relevant source documents:\n",
            "\n",
            "Document 1:\n",
            "Freshwater Ecosystems  \n",
            "Freshwater ecosystems, including rivers, lakes, and wetlands, are affected by changes in \n",
            "precipitation patterns, temperature, and water flow. These changes can lead to altered...\n",
            "\n",
            "Document 2:\n",
            "cultural perceptions.  \n",
            "Youth Engagement  \n",
            "Youth are vital stakeholders in climate action. Empowering young people through education, \n",
            "activism, and leadership opportunities can drive transformative c...\n"
          ]
        }
      ]
    },
    {
      "cell_type": "markdown",
      "source": [
        "## Example that demonstrates why we should use reranking"
      ],
      "metadata": {
        "id": "KfJnn1k6ubki"
      }
    },
    {
      "cell_type": "code",
      "source": [
        "chunks = [\n",
        "    \"The capital of France is great.\",\n",
        "    \"The capital of France is huge.\",\n",
        "    \"The capital of France is beautiful.\",\n",
        "    \"\"\"Have you ever visited Paris? It is a beautiful city where you can eat delicious food and see the Eiffel Tower.\n",
        "    I really enjoyed all the cities in france, but its capital with the Eiffel Tower is my favorite city.\"\"\",\n",
        "    \"I really enjoyed my trip to Paris, France. The city is beautiful and the food is delicious. I would love to visit again. Such a great capital city.\"\n",
        "]\n",
        "docs = [Document(page_content=sentence) for sentence in chunks]\n",
        "\n",
        "\n",
        "def compare_rag_techniques(query: str, docs: List[Document] = docs) -> None:\n",
        "    embeddings = UpstageEmbeddings(model=\"solar-embedding-1-large\")\n",
        "    vectorstore = FAISS.from_documents(docs, embeddings)\n",
        "\n",
        "    print(\"Comparison of Retrieval Techniques\")\n",
        "    print(\"==================================\")\n",
        "    print(f\"Query: {query}\\n\")\n",
        "\n",
        "    print(\"Baseline Retrieval Result:\")\n",
        "    baseline_docs = vectorstore.similarity_search(query, k=2)\n",
        "    for i, doc in enumerate(baseline_docs):\n",
        "        print(f\"\\nDocument {i+1}:\")\n",
        "        print(doc.page_content)\n",
        "\n",
        "    print(\"\\nAdvanced Retrieval Result:\")\n",
        "    custom_retriever = CustomRetriever(vectorstore=vectorstore)\n",
        "    advanced_docs = custom_retriever.get_relevant_documents(query)\n",
        "    for i, doc in enumerate(advanced_docs):\n",
        "        print(f\"\\nDocument {i+1}:\")\n",
        "        print(doc.page_content)\n",
        "\n",
        "\n",
        "query = \"what is the capital of france?\"\n",
        "compare_rag_techniques(query, docs)"
      ],
      "metadata": {
        "colab": {
          "base_uri": "https://localhost:8080/"
        },
        "id": "BEPE870tud4a",
        "outputId": "84668ceb-a5a4-4b32-8807-c936caf59e40"
      },
      "execution_count": null,
      "outputs": [
        {
          "output_type": "stream",
          "name": "stdout",
          "text": [
            "Comparison of Retrieval Techniques\n",
            "==================================\n",
            "Query: what is the capital of france?\n",
            "\n",
            "Baseline Retrieval Result:\n",
            "\n",
            "Document 1:\n",
            "The capital of France is great.\n",
            "\n",
            "Document 2:\n",
            "The capital of France is huge.\n",
            "\n",
            "Advanced Retrieval Result:\n"
          ]
        },
        {
          "output_type": "stream",
          "name": "stderr",
          "text": [
            "<ipython-input-32-672b88e59ba1>:28: LangChainDeprecationWarning: The method `BaseRetriever.get_relevant_documents` was deprecated in langchain-core 0.1.46 and will be removed in 1.0. Use :meth:`~invoke` instead.\n",
            "  advanced_docs = custom_retriever.get_relevant_documents(query)\n"
          ]
        },
        {
          "output_type": "stream",
          "name": "stdout",
          "text": [
            "\n",
            "Document 1:\n",
            "I really enjoyed my trip to Paris, France. The city is beautiful and the food is delicious. I would love to visit again. Such a great capital city.\n",
            "\n",
            "Document 2:\n",
            "The capital of France is beautiful.\n"
          ]
        }
      ]
    },
    {
      "cell_type": "markdown",
      "source": [
        "# Method 2: Cross Encoder models"
      ],
      "metadata": {
        "id": "EkRbPjuYunXo"
      }
    },
    {
      "cell_type": "code",
      "source": [
        "cross_encoder = CrossEncoder('cross-encoder/ms-marco-MiniLM-L-6-v2')\n",
        "userdata.get('HF_TOKEN')\n",
        "\n",
        "class CrossEncoderRetriever(BaseRetriever, BaseModel):\n",
        "    vectorstore: Any = Field(description=\"Vector store for initial retrieval\")\n",
        "    cross_encoder: Any = Field(description=\"Cross-encoder model for reranking\")\n",
        "    k: int = Field(default=5, description=\"Number of documents to retrieve initially\")\n",
        "    rerank_top_k: int = Field(default=3, description=\"Number of documents to return after reranking\")\n",
        "\n",
        "    class Config:\n",
        "        arbitrary_types_allowed = True\n",
        "\n",
        "    def get_relevant_documents(self, query: str) -> List[Document]:\n",
        "        # Initial retrieval\n",
        "        initial_docs = self.vectorstore.similarity_search(query, k=self.k)\n",
        "\n",
        "        # Prepare pairs for cross-encoder\n",
        "        pairs = [[query, doc.page_content] for doc in initial_docs]\n",
        "\n",
        "        # Get cross-encoder scores\n",
        "        scores = self.cross_encoder.predict(pairs)\n",
        "\n",
        "        # Sort documents by score\n",
        "        scored_docs = sorted(zip(initial_docs, scores), key=lambda x: x[1], reverse=True)\n",
        "\n",
        "        # Return top reranked documents\n",
        "        return [doc for doc, _ in scored_docs[:self.rerank_top_k]]\n",
        "\n",
        "    async def aget_relevant_documents(self, query: str) -> List[Document]:\n",
        "        raise NotImplementedError(\"Async retrieval not implemented\")\n"
      ],
      "metadata": {
        "colab": {
          "base_uri": "https://localhost:8080/"
        },
        "id": "WH4mF0oZuxO-",
        "outputId": "3019aeca-e898-41d5-a419-359ecc835efd"
      },
      "execution_count": null,
      "outputs": [
        {
          "output_type": "stream",
          "name": "stderr",
          "text": [
            "/usr/local/lib/python3.10/dist-packages/transformers/tokenization_utils_base.py:1601: FutureWarning: `clean_up_tokenization_spaces` was not set. It will be set to `True` by default. This behavior will be depracted in transformers v4.45, and will be then set to `False` by default. For more details check this issue: https://github.com/huggingface/transformers/issues/31884\n",
            "  warnings.warn(\n",
            "<ipython-input-36-2e3ee92dd021>:4: DeprecationWarning: Retrievers must implement abstract `_get_relevant_documents` method instead of `get_relevant_documents`\n",
            "  class CrossEncoderRetriever(BaseRetriever, BaseModel):\n",
            "<ipython-input-36-2e3ee92dd021>:4: DeprecationWarning: Retrievers must implement abstract `_aget_relevant_documents` method instead of `aget_relevant_documents`\n",
            "  class CrossEncoderRetriever(BaseRetriever, BaseModel):\n"
          ]
        }
      ]
    },
    {
      "cell_type": "markdown",
      "source": [
        "## Create an instance and showcase over an example"
      ],
      "metadata": {
        "id": "uwM0f6l-u0IQ"
      }
    },
    {
      "cell_type": "code",
      "source": [
        "# Create the cross-encoder retriever\n",
        "cross_encoder_retriever = CrossEncoderRetriever(\n",
        "    vectorstore=vector_store,\n",
        "    cross_encoder=cross_encoder,\n",
        "    k=10,  # Retrieve 10 documents initially\n",
        "    rerank_top_k=5  # Return top 5 after reranking\n",
        ")\n",
        "\n",
        "# Set up the LLM\n",
        "llm = ChatUpstage(model='solar-pro')\n",
        "\n",
        "# Create the RetrievalQA chain with the cross-encoder retriever\n",
        "qa_chain = RetrievalQA.from_chain_type(\n",
        "    llm=llm,\n",
        "    chain_type=\"stuff\",\n",
        "    retriever=cross_encoder_retriever,\n",
        "    return_source_documents=True\n",
        ")\n",
        "\n",
        "# Example query\n",
        "query = \"What are the impacts of climate change on biodiversity?\"\n",
        "result = qa_chain({\"query\": query})\n",
        "\n",
        "print(f\"\\nQuestion: {query}\")\n",
        "print(f\"Answer: {result['result']}\")\n",
        "print(\"\\nRelevant source documents:\")\n",
        "for i, doc in enumerate(result[\"source_documents\"]):\n",
        "    print(f\"\\nDocument {i+1}:\")\n",
        "    print(doc.page_content[:200] + \"...\")  # Print first 200 characters of each document"
      ],
      "metadata": {
        "colab": {
          "base_uri": "https://localhost:8080/"
        },
        "id": "ZsxooLNNu2tN",
        "outputId": "53a439e5-97ce-4756-abc3-1ab6ffee4668"
      },
      "execution_count": null,
      "outputs": [
        {
          "output_type": "stream",
          "name": "stdout",
          "text": [
            "\n",
            "Question: What are the impacts of climate change on biodiversity?\n",
            "Answer: Climate change has several impacts on biodiversity, including shifts in habitat ranges, changes in species distributions, and disruptions to ecosystem functions. These changes can lead to a loss of biodiversity and disrupt ecological balance. Climate change is causing shifts in plant and animal species composition in terrestrial ecosystems such as forests, grasslands, and deserts. Similarly, marine ecosystems are highly vulnerable, with rising sea temperatures, ocean acidification, and changing currents affecting marine biodiversity, from coral reefs to deep-sea habitats. Species migration and changes in reproductive cycles can disrupt marine food webs and fisheries.\n",
            "\n",
            "Relevant source documents:\n",
            "\n",
            "Document 1:\n",
            "Climate change is altering terrestrial ecosystems by shifting habitat ranges, changing species \n",
            "distributions, and impacting ecosystem functions. Forests, grasslands, and deserts are \n",
            "experiencing shi...\n",
            "\n",
            "Document 2:\n",
            "protection, and habitat creation.  \n",
            "Climate -Resilient Conservation  \n",
            "Conservation strategies must account for climate change impacts to be effective. This \n",
            "includes identifying climate refugia, areas...\n",
            "\n",
            "Document 3:\n",
            "goals. Policies should promote synergies between biodiversity conservation and climate \n",
            "action.  \n",
            "Chapter 10: Climate Change and Human Health  \n",
            "Health Impacts  \n",
            "Heat -Related Illnesses  \n",
            "Rising temper...\n",
            "\n",
            "Document 4:\n",
            "cultural perceptions.  \n",
            "Youth Engagement  \n",
            "Youth are vital stakeholders in climate action. Empowering young people through education, \n",
            "activism, and leadership opportunities can drive transformative c...\n",
            "\n",
            "Document 5:\n",
            "Local communities are often on the front lines of climate impacts and can be powerful agents \n",
            "of change. Community -based conservation projects involve residents in protecting and \n",
            "restoring natural r...\n"
          ]
        }
      ]
    }
  ]
}