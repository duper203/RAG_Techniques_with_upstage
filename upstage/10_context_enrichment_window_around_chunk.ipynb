{
  "nbformat": 4,
  "nbformat_minor": 0,
  "metadata": {
    "colab": {
      "provenance": [],
      "authorship_tag": "ABX9TyPVe8CYccs62oc8sNvYEnr2",
      "include_colab_link": true
    },
    "kernelspec": {
      "name": "python3",
      "display_name": "Python 3"
    },
    "language_info": {
      "name": "python"
    }
  },
  "cells": [
    {
      "cell_type": "markdown",
      "metadata": {
        "id": "view-in-github",
        "colab_type": "text"
      },
      "source": [
        "<a href=\"https://colab.research.google.com/github/duper203/RAG_Techniques_with_upstage/blob/main/upstage/10_context_enrichment_window_around_chunk.ipynb\" target=\"_parent\"><img src=\"https://colab.research.google.com/assets/colab-badge.svg\" alt=\"Open In Colab\"/></a>"
      ]
    },
    {
      "cell_type": "markdown",
      "source": [
        "# Context Enrichment Window for Document Retrieval\n",
        "\n",
        "\n",
        "\n",
        "\n",
        "\n",
        "## Key Components\n",
        "\n",
        "1. PDF processing and text chunking\n",
        "2. Vector store creation using FAISS and Upstage embeddings\n",
        "3. Custom retrieval function with context window\n",
        "4. Comparison between standard and context-enriched retrieval\n",
        "\n",
        "\n",
        "\n",
        "\n",
        "\n",
        "## Method Details\n",
        "\n",
        "1. Document Preprocessing\n",
        "\n",
        "2. Vector Store Creation\n",
        "\n",
        "3. Context-Enriched Retrieval\n",
        "\n",
        "  The `retrieve_with_context_overlap` function performs the following steps:\n",
        "  * Retrieves relevant chunks based on the query\n",
        "  * For each relevant chunk, fetches neighboring chunks\n",
        "  * Concatenates the chunks, accounting for overlap\n",
        "  * Returns the expanded context for each relevant chunk"
      ],
      "metadata": {
        "id": "_4vTJ_fSflby"
      }
    },
    {
      "cell_type": "code",
      "source": [
        "! pip3 install -qU langchain-upstage langchain langchain-community pypdf faiss-cpu pymupdf"
      ],
      "metadata": {
        "id": "MFxiQBMlWmjl"
      },
      "execution_count": null,
      "outputs": []
    },
    {
      "cell_type": "code",
      "source": [
        "import os\n",
        "from google.colab import userdata\n",
        "\n",
        "os.environ[\"UPSTAGE_API_KEY\"] = userdata.get(\"UPSTAGE_API_KEY\")"
      ],
      "metadata": {
        "id": "z_2vs2-ob4R3"
      },
      "execution_count": 2,
      "outputs": []
    },
    {
      "cell_type": "markdown",
      "source": [
        "## Define document(s) path & Read PDf to string"
      ],
      "metadata": {
        "id": "DhaAjrWHY20s"
      }
    },
    {
      "cell_type": "code",
      "source": [
        "path = \"data/Understanding_Climate_Change.pdf\""
      ],
      "metadata": {
        "id": "fSlBtO2-UuAq"
      },
      "execution_count": 21,
      "outputs": []
    },
    {
      "cell_type": "code",
      "source": [
        "import fitz\n",
        "def read_pdf_to_string(path):\n",
        "    \"\"\"\n",
        "    Read a PDF document from the specified path and return its content as a string.\n",
        "\n",
        "    Args:\n",
        "        path (str): The file path to the PDF document.\n",
        "\n",
        "    Returns:\n",
        "        str: The concatenated text content of all pages in the PDF document.\n",
        "\n",
        "    The function uses the 'fitz' library (PyMuPDF) to open the PDF document, iterate over each page,\n",
        "    extract the text content from each page, and append it to a single string.\n",
        "    \"\"\"\n",
        "    # Open the PDF document located at the specified path\n",
        "    doc = fitz.open(path)\n",
        "    content = \"\"\n",
        "    # Iterate over each page in the document\n",
        "    for page_num in range(len(doc)):\n",
        "        # Get the current page\n",
        "        page = doc[page_num]\n",
        "        # Extract the text content from the current page and append it to the content string\n",
        "        content += page.get_text()\n",
        "    return content"
      ],
      "metadata": {
        "id": "mgAqRRJ4VJ3z"
      },
      "execution_count": 22,
      "outputs": []
    },
    {
      "cell_type": "code",
      "source": [
        "content = read_pdf_to_string(path)"
      ],
      "metadata": {
        "id": "_xVuZ-diU6r2"
      },
      "execution_count": 23,
      "outputs": []
    },
    {
      "cell_type": "markdown",
      "source": [
        "\n",
        "## Function to split text into chunks with metadata of the chunk chronological index"
      ],
      "metadata": {
        "id": "GVTpYbJQaTkW"
      }
    },
    {
      "cell_type": "code",
      "source": [
        "from typing import List\n",
        "from langchain.docstore.document import Document\n",
        "\n",
        "def split_text_to_chunks_with_indices(text: str, chunk_size: int, chunk_overlap: int) -> List[Document]:\n",
        "    chunks = []\n",
        "    start = 0\n",
        "    while start < len(text):\n",
        "        end = start + chunk_size\n",
        "        chunk = text[start:end]\n",
        "        chunks.append(Document(page_content=chunk, metadata={\"index\": len(chunks), \"text\": text}))\n",
        "        start += chunk_size - chunk_overlap\n",
        "    return chunks"
      ],
      "metadata": {
        "id": "YnUij4rJVjmw"
      },
      "execution_count": 30,
      "outputs": []
    },
    {
      "cell_type": "markdown",
      "source": [
        "## Split our document accordingly"
      ],
      "metadata": {
        "id": "dkr1Q-IQaW8I"
      }
    },
    {
      "cell_type": "code",
      "source": [
        "chunks_size = 400\n",
        "chunk_overlap = 200\n",
        "docs = split_text_to_chunks_with_indices(content, chunks_size, chunk_overlap)\n"
      ],
      "metadata": {
        "id": "HlVt6Y3IXLTA"
      },
      "execution_count": 31,
      "outputs": []
    },
    {
      "cell_type": "markdown",
      "source": [
        "## Create vector store and retriever"
      ],
      "metadata": {
        "id": "oepcV4C2aa84"
      }
    },
    {
      "cell_type": "code",
      "source": [
        "from langchain_upstage import UpstageEmbeddings\n",
        "from langchain.vectorstores import FAISS\n",
        "\n",
        "embeddings = UpstageEmbeddings(model=\"solar-embedding-1-large\")\n",
        "vectorstore = FAISS.from_documents(docs, embeddings)\n",
        "chunks_query_retriever = vectorstore.as_retriever(search_kwargs={\"k\": 1})"
      ],
      "metadata": {
        "id": "E68SBxW1XNXB"
      },
      "execution_count": 33,
      "outputs": []
    },
    {
      "cell_type": "markdown",
      "source": [
        "## Function to draw the kth chunk (in the original order) from the vector store"
      ],
      "metadata": {
        "id": "dObizaALadIH"
      }
    },
    {
      "cell_type": "code",
      "source": [
        "def get_chunk_by_index(vectorstore, target_index: int) -> Document:\n",
        "    \"\"\"\n",
        "    Retrieve a chunk from the vectorstore based on its index in the metadata.\n",
        "\n",
        "    Args:\n",
        "    vectorstore (VectorStore): The vectorstore containing the chunks.\n",
        "    target_index (int): The index of the chunk to retrieve.\n",
        "\n",
        "    Returns:\n",
        "    Optional[Document]: The retrieved chunk as a Document object, or None if not found.\n",
        "    \"\"\"\n",
        "    # This is a simplified version. In practice, you might need a more efficient method\n",
        "    # to retrieve chunks by index, depending on your vectorstore implementation.\n",
        "    all_docs = vectorstore.similarity_search(\"What are the impacts of climate change on the environment?\", k=vectorstore.index.ntotal)\n",
        "    for doc in all_docs:\n",
        "        if doc.metadata.get('index') == target_index:\n",
        "            return doc\n",
        "    return None"
      ],
      "metadata": {
        "id": "hOoH3-sGXhiA"
      },
      "execution_count": 40,
      "outputs": []
    },
    {
      "cell_type": "markdown",
      "source": [
        "## Check the function"
      ],
      "metadata": {
        "id": "Nci02Tatafqs"
      }
    },
    {
      "cell_type": "code",
      "source": [
        "chunk = get_chunk_by_index(vectorstore, 0)\n",
        "print(chunk.page_content)"
      ],
      "metadata": {
        "colab": {
          "base_uri": "https://localhost:8080/"
        },
        "id": "9X3nwtRjXkNa",
        "outputId": "76f3deb0-8a5e-4b81-ddc7-fa715a34bfde"
      },
      "execution_count": 41,
      "outputs": [
        {
          "output_type": "stream",
          "name": "stdout",
          "text": [
            "Understanding Climate Change \n",
            "Chapter 1: Introduction to Climate Change \n",
            "Climate change refers to significant, long-term changes in the global climate. The term \n",
            "\"global climate\" encompasses the planet's overall weather patterns, including temperature, \n",
            "precipitation, and wind patterns, over an extended period. Over the past century, human \n",
            "activities, particularly the burning of fossil fuels and \n"
          ]
        }
      ]
    },
    {
      "cell_type": "markdown",
      "source": [
        "## Function that retrieves from the vector stroe based on semantic similarity and then pads each retrieved chunk with its num_neighbors before and after, taking into account the chunk overlap to construct a meaningful wide window arround it"
      ],
      "metadata": {
        "id": "GCiW_HaQYAtX"
      }
    },
    {
      "cell_type": "code",
      "source": [
        "def retrieve_with_context_overlap(vectorstore, retriever, query: str, num_neighbors: int = 1, chunk_size: int = 200, chunk_overlap: int = 20) -> List[str]:\n",
        "    \"\"\"\n",
        "    Retrieve chunks based on a query, then fetch neighboring chunks and concatenate them,\n",
        "    accounting for overlap and correct indexing.\n",
        "\n",
        "    Args:\n",
        "    vectorstore (VectorStore): The vectorstore containing the chunks.\n",
        "    retriever: The retriever object to get relevant documents.\n",
        "    query (str): The query to search for relevant chunks.\n",
        "    num_neighbors (int): The number of chunks to retrieve before and after each relevant chunk.\n",
        "    chunk_size (int): The size of each chunk when originally split.\n",
        "    chunk_overlap (int): The overlap between chunks when originally split.\n",
        "\n",
        "    Returns:\n",
        "    List[str]: List of concatenated chunk sequences, each centered on a relevant chunk.\n",
        "    \"\"\"\n",
        "    relevant_chunks = retriever.get_relevant_documents(query)\n",
        "    result_sequences = []\n",
        "\n",
        "    for chunk in relevant_chunks:\n",
        "        current_index = chunk.metadata.get('index')\n",
        "        if current_index is None:\n",
        "            continue\n",
        "\n",
        "        # Determine the range of chunks to retrieve\n",
        "        start_index = max(0, current_index - num_neighbors)\n",
        "        end_index = current_index + num_neighbors + 1  # +1 because range is exclusive at the end\n",
        "\n",
        "        # Retrieve all chunks in the range\n",
        "        neighbor_chunks = []\n",
        "        for i in range(start_index, end_index):\n",
        "            neighbor_chunk = get_chunk_by_index(vectorstore, i)\n",
        "            if neighbor_chunk:\n",
        "                neighbor_chunks.append(neighbor_chunk)\n",
        "\n",
        "        # Sort chunks by their index to ensure correct order\n",
        "        neighbor_chunks.sort(key=lambda x: x.metadata.get('index', 0))\n",
        "\n",
        "        # Concatenate chunks, accounting for overlap\n",
        "        concatenated_text = neighbor_chunks[0].page_content\n",
        "        for i in range(1, len(neighbor_chunks)):\n",
        "            current_chunk = neighbor_chunks[i].page_content\n",
        "            overlap_start = max(0, len(concatenated_text) - chunk_overlap)\n",
        "            concatenated_text = concatenated_text[:overlap_start] + current_chunk\n",
        "\n",
        "        result_sequences.append(concatenated_text)\n",
        "\n",
        "    return result_sequences"
      ],
      "metadata": {
        "id": "fN8TD3uPXmHg"
      },
      "execution_count": 42,
      "outputs": []
    },
    {
      "cell_type": "markdown",
      "source": [
        "## Comparing regular retrival and retrival with context window"
      ],
      "metadata": {
        "id": "lBQwzbP-X82g"
      }
    },
    {
      "cell_type": "code",
      "source": [
        "# Baseline approach\n",
        "query = \"Explain the role of deforestation and fossil fuels in climate change.\"\n",
        "baseline_chunk = chunks_query_retriever.get_relevant_documents(query\n",
        "    ,\n",
        "    k=1\n",
        ")\n",
        "# Focused context enrichment approach\n",
        "enriched_chunks = retrieve_with_context_overlap(\n",
        "    vectorstore,\n",
        "    chunks_query_retriever,\n",
        "    query,\n",
        "    num_neighbors=1,\n",
        "    chunk_size=400,\n",
        "    chunk_overlap=200\n",
        ")\n",
        "\n",
        "print(\"Baseline Chunk:\")\n",
        "print(baseline_chunk[0].page_content)\n",
        "print(\"\\nEnriched Chunks:\")\n",
        "print(enriched_chunks[0])"
      ],
      "metadata": {
        "colab": {
          "base_uri": "https://localhost:8080/"
        },
        "id": "bsEbwf10Xt8l",
        "outputId": "2afab24a-c123-4799-c881-397149b37072"
      },
      "execution_count": 43,
      "outputs": [
        {
          "output_type": "stream",
          "name": "stderr",
          "text": [
            "<ipython-input-43-6dba95419f15>:3: LangChainDeprecationWarning: The method `BaseRetriever.get_relevant_documents` was deprecated in langchain-core 0.1.46 and will be removed in 1.0. Use :meth:`~invoke` instead.\n",
            "  baseline_chunk = chunks_query_retriever.get_relevant_documents(query\n"
          ]
        },
        {
          "output_type": "stream",
          "name": "stdout",
          "text": [
            "Baseline Chunk:\n",
            "to support life. However, human \n",
            "activities have intensified this natural process, leading to a warmer climate. \n",
            "Fossil Fuels \n",
            "Burning fossil fuels for energy releases large amounts of CO2. This includes coal, oil, and \n",
            "natural gas used for electricity, heating, and transportation. The industrial revolution marked \n",
            "the beginning of a significant increase in fossil fuel consumption, which continues\n",
            "\n",
            "Enriched Chunks:\n",
            " carbon dioxide (CO2), methane (CH4), and nitrous \n",
            "oxide (N2O), trap heat from the sun, creating a \"greenhouse effect.\" This effect is essential \n",
            "for life on Earth, as it keeps the planet warm enough to support life. However, human \n",
            "activities have intensified this natural process, leading to a warmer climate. \n",
            "Fossil Fuels \n",
            "Burning fossil fuels for energy releases large amounts of CO2. This includes coal, oil, and \n",
            "natural gas used for electricity, heating, and transportation. The industrial revolution marked \n",
            "the beginning of a significant increase in fossil fuel consumption, which continues to rise \n",
            "today. \n",
            "Coal \n",
            "Coal is the most carbon-intensive fossil fuel, and its use for electricity generation is a major \n",
            "source of CO2 emissions. Despite a decline in some regions, coal remains a sig\n"
          ]
        }
      ]
    },
    {
      "cell_type": "markdown",
      "source": [
        "## An example that showcases the superiority of additional context window"
      ],
      "metadata": {
        "id": "_o3_ZfH4X6Xk"
      }
    },
    {
      "cell_type": "code",
      "source": [
        "document_content = \"\"\"\n",
        "Artificial Intelligence (AI) has a rich history dating back to the mid-20th century. The term \"Artificial Intelligence\" was coined in 1956 at the Dartmouth Conference, marking the field's official beginning.\n",
        "\n",
        "In the 1950s and 1960s, AI research focused on symbolic methods and problem-solving. The Logic Theorist, created in 1955 by Allen Newell and Herbert A. Simon, is often considered the first AI program.\n",
        "\n",
        "The 1960s saw the development of expert systems, which used predefined rules to solve complex problems. DENDRAL, created in 1965, was one of the first expert systems, designed to analyze chemical compounds.\n",
        "\n",
        "However, the 1970s brought the first \"AI Winter,\" a period of reduced funding and interest in AI research, largely due to overpromised capabilities and underdelivered results.\n",
        "\n",
        "The 1980s saw a resurgence with the popularization of expert systems in corporations. The Japanese government's Fifth Generation Computer Project also spurred increased investment in AI research globally.\n",
        "\n",
        "Neural networks gained prominence in the 1980s and 1990s. The backpropagation algorithm, although discovered earlier, became widely used for training multi-layer networks during this time.\n",
        "\n",
        "The late 1990s and 2000s marked the rise of machine learning approaches. Support Vector Machines (SVMs) and Random Forests became popular for various classification and regression tasks.\n",
        "\n",
        "Deep Learning, a subset of machine learning using neural networks with many layers, began to show promising results in the early 2010s. The breakthrough came in 2012 when a deep neural network significantly outperformed other machine learning methods in the ImageNet competition.\n",
        "\n",
        "Since then, deep learning has revolutionized many AI applications, including image and speech recognition, natural language processing, and game playing. In 2016, Google's AlphaGo defeated a world champion Go player, a landmark achievement in AI.\n",
        "\n",
        "The current era of AI is characterized by the integration of deep learning with other AI techniques, the development of more efficient and powerful hardware, and the ethical considerations surrounding AI deployment.\n",
        "\n",
        "Transformers, introduced in 2017, have become a dominant architecture in natural language processing, enabling models like GPT (Generative Pre-trained Transformer) to generate human-like text.\n",
        "\n",
        "As AI continues to evolve, new challenges and opportunities arise. Explainable AI, robust and fair machine learning, and artificial general intelligence (AGI) are among the key areas of current and future research in the field.\n",
        "\"\"\"\n",
        "\n",
        "chunks_size = 250\n",
        "chunk_overlap = 20\n",
        "document_chunks = split_text_to_chunks_with_indices(document_content, chunks_size, chunk_overlap)\n",
        "document_vectorstore = FAISS.from_documents(document_chunks, embeddings)\n",
        "document_retriever = document_vectorstore.as_retriever(search_kwargs={\"k\": 1})\n",
        "\n",
        "query = \"When did deep learning become prominent in AI?\"\n",
        "context = document_retriever.get_relevant_documents(query)\n",
        "context_pages_content = [doc.page_content for doc in context]\n",
        "\n",
        "print(\"Regular retrieval:\\n\")\n",
        "show_context(context_pages_content)\n",
        "\n",
        "sequences = retrieve_with_context_overlap(document_vectorstore, document_retriever, query, num_neighbors=1)\n",
        "print(\"\\nRetrieval with context enrichment:\\n\")\n",
        "show_context(sequences)"
      ],
      "metadata": {
        "colab": {
          "base_uri": "https://localhost:8080/"
        },
        "id": "Bp8qWd0tXvet",
        "outputId": "f5a9a61f-c1e1-439f-eded-47221c58fdef"
      },
      "execution_count": 46,
      "outputs": [
        {
          "output_type": "stream",
          "name": "stdout",
          "text": [
            "Regular retrieval:\n",
            "\n",
            "Context 1:\n",
            "\n",
            "Deep Learning, a subset of machine learning using neural networks with many layers, began to show promising results in the early 2010s. The breakthrough came in 2012 when a deep neural network significantly outperformed other machine learning method\n",
            "\n",
            "\n",
            "\n",
            "Retrieval with context enrichment:\n",
            "\n",
            "Context 1:\n",
            "ng multi-layer networks during this time.\n",
            "\n",
            "The late 1990s and 2000s marked the rise of machine learning approaches. Support Vector Machines (SVMs) and Random Forests became popular for various classification and regression tasks.\n",
            "\n",
            "Deep Learning, a subset of machine learning using neural networks with many layers, began to show promising results in the early 2010s. The breakthrough came in 2012 when a deep neural network significantly outperformed other machine learning methods in the ImageNet competition.\n",
            "\n",
            "Since then, deep learning has revolutionized many AI applications, including image and speech recognition, natural language processing, and game playing. In 2016, Google's AlphaGo defeated a world c\n",
            "\n",
            "\n"
          ]
        }
      ]
    }
  ]
}