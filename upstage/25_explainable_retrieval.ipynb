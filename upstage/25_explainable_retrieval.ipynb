{
  "nbformat": 4,
  "nbformat_minor": 0,
  "metadata": {
    "colab": {
      "provenance": [],
      "authorship_tag": "ABX9TyP1rKh7zqPDVLQgc8gCI9sk",
      "include_colab_link": true
    },
    "kernelspec": {
      "name": "python3",
      "display_name": "Python 3"
    },
    "language_info": {
      "name": "python"
    }
  },
  "cells": [
    {
      "cell_type": "markdown",
      "metadata": {
        "id": "view-in-github",
        "colab_type": "text"
      },
      "source": [
        "<a href=\"https://colab.research.google.com/github/duper203/RAG_Techniques_with_upstage/blob/main/upstage/25_explainable_retrieval.ipynb\" target=\"_parent\"><img src=\"https://colab.research.google.com/assets/colab-badge.svg\" alt=\"Open In Colab\"/></a>"
      ]
    },
    {
      "cell_type": "markdown",
      "source": [
        "# Explainable Retrieval in Document Search\n",
        "\n",
        "\n",
        "## Key Components\n",
        "1. Vector store creation from input texts\n",
        "2. Base retriever using FAISS for efficient similarity search\n",
        "3. Language model (LLM) for generating explanations\n",
        "4. Custom ExplainableRetriever class that combines retrieval and explanation generation"
      ],
      "metadata": {
        "id": "GJCQEVKx29LQ"
      }
    },
    {
      "cell_type": "code",
      "execution_count": null,
      "metadata": {
        "id": "BGMx_kQQheQS"
      },
      "outputs": [],
      "source": [
        "! pip3 install -qU langchain-upstage langchain langchain-community faiss-cpu sentence_transformers"
      ]
    },
    {
      "cell_type": "code",
      "source": [
        "import os\n",
        "from langchain_upstage import UpstageEmbeddings, ChatUpstage\n",
        "from langchain.prompts import PromptTemplate\n",
        "from langchain.vectorstores import FAISS\n",
        "\n",
        "from google.colab import userdata\n",
        "os.environ[\"UPSTAGE_API_KEY\"] = userdata.get(\"UPSTAGE_API_KEY\")"
      ],
      "metadata": {
        "id": "LmVEhyCshlWB"
      },
      "execution_count": 3,
      "outputs": []
    },
    {
      "cell_type": "markdown",
      "source": [
        "## Define the explainable retriever class"
      ],
      "metadata": {
        "id": "iMMTZ6MN3HmP"
      }
    },
    {
      "cell_type": "code",
      "source": [
        "class ExplainableRetriever:\n",
        "    def __init__(self, texts):\n",
        "        self.embeddings = UpstageEmbeddings(model=\"solar-embedding-1-large\")\n",
        "\n",
        "        self.vectorstore = FAISS.from_texts(texts, self.embeddings)\n",
        "        self.llm = ChatUpstage(model='solar-pro')\n",
        "\n",
        "\n",
        "        # Create a base retriever\n",
        "        self.retriever = self.vectorstore.as_retriever(search_kwargs={\"k\": 5})\n",
        "\n",
        "        # Create an explanation chain\n",
        "        explain_prompt = PromptTemplate(\n",
        "            input_variables=[\"query\", \"context\"],\n",
        "            template=\"\"\"\n",
        "            Analyze the relationship between the following query and the retrieved context.\n",
        "            Explain why this context is relevant to the query and how it might help answer the query.\n",
        "\n",
        "            Query: {query}\n",
        "\n",
        "            Context: {context}\n",
        "\n",
        "            Explanation:\n",
        "            \"\"\"\n",
        "        )\n",
        "        self.explain_chain = explain_prompt | self.llm\n",
        "\n",
        "    def retrieve_and_explain(self, query):\n",
        "        # Retrieve relevant documents\n",
        "        docs = self.retriever.get_relevant_documents(query)\n",
        "\n",
        "        explained_results = []\n",
        "\n",
        "        for doc in docs:\n",
        "            # Generate explanation\n",
        "            input_data = {\"query\": query, \"context\": doc.page_content}\n",
        "            explanation = self.explain_chain.invoke(input_data).content\n",
        "\n",
        "            explained_results.append({\n",
        "                \"content\": doc.page_content,\n",
        "                \"explanation\": explanation\n",
        "            })\n",
        "\n",
        "        return explained_results"
      ],
      "metadata": {
        "id": "6r7SsDT1i_9j"
      },
      "execution_count": 4,
      "outputs": []
    },
    {
      "cell_type": "markdown",
      "source": [
        "## Create a mock example and explainable retriever instance"
      ],
      "metadata": {
        "id": "nt-sIJis3JuB"
      }
    },
    {
      "cell_type": "code",
      "source": [
        "# Usage\n",
        "texts = [\n",
        "    \"The sky is blue because of the way sunlight interacts with the atmosphere.\",\n",
        "    \"Photosynthesis is the process by which plants use sunlight to produce energy.\",\n",
        "    \"Global warming is caused by the increase of greenhouse gases in Earth's atmosphere.\"\n",
        "]\n",
        "\n",
        "explainable_retriever = ExplainableRetriever(texts)\n"
      ],
      "metadata": {
        "id": "htBKsO-2jPZD"
      },
      "execution_count": 5,
      "outputs": []
    },
    {
      "cell_type": "markdown",
      "source": [
        "## Show the results"
      ],
      "metadata": {
        "id": "supXXl0q3LxG"
      }
    },
    {
      "cell_type": "code",
      "source": [
        "query = \"Why is the sky blue?\"\n",
        "results = explainable_retriever.retrieve_and_explain(query)\n",
        "\n",
        "for i, result in enumerate(results, 1):\n",
        "    print(f\"Result {i}:\")\n",
        "    print(f\"Content: {result['content']}\")\n",
        "    print(f\"Explanation: {result['explanation']}\")\n",
        "    print()"
      ],
      "metadata": {
        "colab": {
          "base_uri": "https://localhost:8080/"
        },
        "id": "ldqBHajWkg8t",
        "outputId": "0dd7c364-0719-4b90-9eb0-ee6c737e34bd"
      },
      "execution_count": 7,
      "outputs": [
        {
          "output_type": "stream",
          "name": "stdout",
          "text": [
            "Result 1:\n",
            "Content: The sky is blue because of the way sunlight interacts with the atmosphere.\n",
            "Explanation: \n",
            "            The context is directly relevant to the query as it provides a concise and accurate answer to the question \"Why is the sky blue?\" The explanation given in the context, \"The sky is blue because of the way sunlight interacts with the atmosphere,\" highlights the primary reason for the sky's blue color, which is the scattering of sunlight by the Earth's atmosphere. This context can help answer the query by satisfying the user's curiosity about the phenomenon and potentially encouraging further learning about the topic.\n",
            "\n",
            "Result 2:\n",
            "Content: Global warming is caused by the increase of greenhouse gases in Earth's atmosphere.\n",
            "Explanation: \n",
            "Explanation: The provided context is not directly relevant to the query \"Why is the sky blue?\" as it discusses global warming and greenhouse gases, while the query is about the color of the sky. However, it might be indirectly related because both topics involve the Earth's atmosphere. The color of the sky is primarily due to the scattering of sunlight by the atmosphere, and the context could be relevant if the user also wants to know how atmospheric changes, such as those caused by global warming, might affect the sky's color. But, without additional context or questions, it's unclear how this specific information about global warming would help answer the original query.\n",
            "\n",
            "Result 3:\n",
            "Content: Photosynthesis is the process by which plants use sunlight to produce energy.\n",
            "Explanation: \n",
            "            Explanation: The provided context is not directly relevant to the query \"Why is the sky blue?\" as it discusses photosynthesis, which is the process plants use to produce energy from sunlight. The color of the sky is primarily due to the scattering of sunlight by the Earth's atmosphere, a phenomenon called Rayleigh scattering. However, the context is indirectly related to the query because it mentions sunlight, which is a component of the broader topic of light and its interaction with matter. This context might help answer the query by prompting the user to think about the relationship between light and the atmosphere, leading to a discussion about Rayleigh scattering and the blue color of the sky.\n",
            "\n"
          ]
        }
      ]
    }
  ]
}