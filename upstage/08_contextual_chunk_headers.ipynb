{
  "nbformat": 4,
  "nbformat_minor": 0,
  "metadata": {
    "colab": {
      "provenance": [],
      "authorship_tag": "ABX9TyPcdwWIZSYbZDMChw4p5uKE",
      "include_colab_link": true
    },
    "kernelspec": {
      "name": "python3",
      "display_name": "Python 3"
    },
    "language_info": {
      "name": "python"
    }
  },
  "cells": [
    {
      "cell_type": "markdown",
      "metadata": {
        "id": "view-in-github",
        "colab_type": "text"
      },
      "source": [
        "<a href=\"https://colab.research.google.com/github/duper203/RAG_Techniques_with_upstage/blob/main/upstage/08_contextual_chunk_headers.ipynb\" target=\"_parent\"><img src=\"https://colab.research.google.com/assets/colab-badge.svg\" alt=\"Open In Colab\"/></a>"
      ]
    },
    {
      "cell_type": "markdown",
      "source": [
        "# Contextual Chunk Headers (CCH)\n",
        "\n",
        "\n",
        "\n",
        "## Key Components\n",
        "\n",
        "### Contextual chunk headers\n",
        "\n",
        "The idea here is to add in higher-level context to the chunk by prepending a chunk header. This chunk header could be as simple as just the document title, or it could use a combination of document title, a concise document summary, and the full hierarchy of section and sub-section titles.\n",
        "\n",
        "\n",
        "\n",
        "\n",
        "## Method Details\n",
        "\n",
        "1. Context generation\n",
        "\n",
        "2. Embed chunks with chunk headers\n",
        "\n",
        "3. Add chunk headers to search results"
      ],
      "metadata": {
        "id": "_4vTJ_fSflby"
      }
    },
    {
      "cell_type": "code",
      "execution_count": null,
      "metadata": {
        "id": "SONz-Z8Ubxiv"
      },
      "outputs": [],
      "source": [
        "! pip3 install -qU langchain-upstage langchain langchain-community pypdf faiss-cpu"
      ]
    },
    {
      "cell_type": "code",
      "source": [
        "import os\n",
        "from google.colab import userdata\n",
        "\n",
        "os.environ[\"UPSTAGE_API_KEY\"] = userdata.get(\"UPSTAGE_API_KEY\")"
      ],
      "metadata": {
        "id": "z_2vs2-ob4R3"
      },
      "execution_count": null,
      "outputs": []
    },
    {
      "cell_type": "markdown",
      "source": [
        "## Define document(s) path"
      ],
      "metadata": {
        "id": "DhaAjrWHY20s"
      }
    },
    {
      "cell_type": "code",
      "source": [
        "from langchain.text_splitter import RecursiveCharacterTextSplitter\n",
        "\n",
        "def split_into_chunks(text: str, chunk_size: int = 800) -> list[str]:\n",
        "    \"\"\"\n",
        "    Split a given text into chunks of specified size using RecursiveCharacterTextSplitter.\n",
        "\n",
        "    Args:\n",
        "        text (str): The input text to be split into chunks.\n",
        "        chunk_size (int, optional): The maximum size of each chunk. Defaults to 800.\n",
        "\n",
        "    Returns:\n",
        "        list[str]: A list of text chunks.\n",
        "\n",
        "    Example:\n",
        "        >>> text = \"This is a sample text to be split into chunks.\"\n",
        "        >>> chunks = split_into_chunks(text, chunk_size=10)\n",
        "        >>> print(chunks)\n",
        "        ['This is a', 'sample', 'text to', 'be split', 'into', 'chunks.']\n",
        "    \"\"\"\n",
        "    text_splitter = RecursiveCharacterTextSplitter(\n",
        "        chunk_size=chunk_size,\n",
        "        chunk_overlap=0,\n",
        "        length_function=len\n",
        "    )\n",
        "    documents = text_splitter.create_documents([text])\n",
        "    return [document.page_content for document in documents]\n",
        "\n",
        "# File path for the input document\n",
        "FILE_PATH = \"data/nike_2023_annual_report.txt\"\n",
        "\n",
        "# Read the document and split it into chunks\n",
        "with open(FILE_PATH, \"r\") as file:\n",
        "    document_text = file.read()\n",
        "\n",
        "chunks = split_into_chunks(document_text, chunk_size=800)"
      ],
      "metadata": {
        "id": "YnUij4rJVjmw"
      },
      "execution_count": null,
      "outputs": []
    },
    {
      "cell_type": "code",
      "source": [
        "from openai import OpenAI\n",
        "from langchain.prompts import PromptTemplate\n",
        "import tiktoken\n",
        "import os\n",
        "# Constants\n",
        "DOCUMENT_TITLE_PROMPT = \"\"\"\n",
        "INSTRUCTIONS\n",
        "What is the title of the following document?\n",
        "\n",
        "Your response MUST be the title of the document, and nothing else. DO NOT respond with anything else.\n",
        "\n",
        "{document_title_guidance}\n",
        "\n",
        "{truncation_message}\n",
        "\n",
        "DOCUMENT\n",
        "{document_text}\n",
        "\"\"\".strip()\n",
        "\n",
        "TRUNCATION_MESSAGE = \"\"\"\n",
        "Also note that the document text provided below is just the first ~{num_words} words of the document. That should be plenty for this task. Your response should still pertain to the entire document, not just the text provided below.\n",
        "\"\"\".strip()\n",
        "\n",
        "MAX_CONTENT_TOKENS = 1700\n",
        "MODEL_NAME = \"solar-pro\"\n",
        "# TOKEN_ENCODER = tiktoken.get_encoding()\n",
        "\n",
        "def make_llm_call(chat_messages: list[dict]) -> str:\n",
        "    \"\"\"\n",
        "    Make an API call to the OpenAI language model.\n",
        "\n",
        "    Args:\n",
        "        chat_messages (list[dict]): A list of message dictionaries for the chat completion.\n",
        "\n",
        "    Returns:\n",
        "        str: The generated response from the language model.\n",
        "    \"\"\"\n",
        "    client = OpenAI(api_key=os.environ[\"UPSTAGE_API_KEY\"], base_url=\"https://api.upstage.ai/v1/solar\")\n",
        "    response = client.chat.completions.create(\n",
        "        model=MODEL_NAME,\n",
        "        messages=chat_messages,\n",
        "        max_tokens=MAX_CONTENT_TOKENS,\n",
        "        temperature=0.2,\n",
        "    )\n",
        "    return response.choices[0].message.content.strip()\n",
        "\n",
        "def truncate_content(content: str, max_tokens: int) -> tuple[str, int]:\n",
        "    \"\"\"\n",
        "    Truncate the content to a specified maximum number of tokens.\n",
        "\n",
        "    Args:\n",
        "        content (str): The input text to be truncated.\n",
        "        max_tokens (int): The maximum number of tokens to keep.\n",
        "\n",
        "    Returns:\n",
        "        tuple[str, int]: A tuple containing the truncated content and the number of tokens.\n",
        "    \"\"\"\n",
        "    encoder = tiktoken.get_encoding(\"o200k_base\")\n",
        "\n",
        "    # Encode the content into tokens\n",
        "    tokens = encoder.encode(content)\n",
        "\n",
        "    # Truncate the tokens\n",
        "    truncated_tokens = tokens[:max_tokens]\n",
        "\n",
        "    # Decode the truncated tokens back to text\n",
        "    truncated_content = encoder.decode(truncated_tokens)\n",
        "\n",
        "    return truncated_content, len(truncated_tokens)\n",
        "\n",
        "def get_document_title(document_text: str, document_title_guidance: str = \"\") -> str:\n",
        "    \"\"\"\n",
        "    Extract the title of a document using a language model.\n",
        "\n",
        "    Args:\n",
        "        document_text (str): The text of the document.\n",
        "        document_title_guidance (str, optional): Additional guidance for title extraction. Defaults to \"\".\n",
        "\n",
        "    Returns:\n",
        "        str: The extracted document title.\n",
        "    \"\"\"\n",
        "    # Truncate the content if it's too long\n",
        "    document_text, num_tokens = truncate_content(document_text, MAX_CONTENT_TOKENS)\n",
        "    truncation_message = TRUNCATION_MESSAGE.format(num_words=3000) if num_tokens >= MAX_CONTENT_TOKENS else \"\"\n",
        "\n",
        "    # Prepare the prompt for title extraction\n",
        "    prompt = DOCUMENT_TITLE_PROMPT.format(\n",
        "        document_title_guidance=document_title_guidance,\n",
        "        document_text=document_text,\n",
        "        truncation_message=truncation_message\n",
        "    )\n",
        "    chat_messages = [{\"role\": \"user\", \"content\": prompt}]\n",
        "\n",
        "    return make_llm_call(chat_messages)\n",
        "\n",
        "# Example usage\n",
        "if __name__ == \"__main__\":\n",
        "    # Assuming document_text is defined elsewhere\n",
        "    document_title = get_document_title(document_text)\n",
        "    print(f\"Document Title: {document_title}\")"
      ],
      "metadata": {
        "colab": {
          "base_uri": "https://localhost:8080/"
        },
        "id": "ZvU-sgWwbDJK",
        "outputId": "a9897138-99dd-4a29-8ed8-d16508cc0c4a"
      },
      "execution_count": null,
      "outputs": [
        {
          "output_type": "stream",
          "name": "stdout",
          "text": [
            "Document Title: ANNUAL REPORT ON FORM 10-K\n"
          ]
        }
      ]
    },
    {
      "cell_type": "code",
      "source": [
        "pip install cohere"
      ],
      "metadata": {
        "id": "8QgSAvj5S7N8"
      },
      "execution_count": null,
      "outputs": []
    },
    {
      "cell_type": "code",
      "source": [
        "import os\n",
        "from google.colab import userdata\n",
        "\n",
        "os.environ[\"CO_API_KEY\"] = userdata.get('CO_API_KEY') # Cohere API key"
      ],
      "metadata": {
        "id": "ypxOBCUzSuq-"
      },
      "execution_count": 17,
      "outputs": []
    },
    {
      "cell_type": "code",
      "source": [
        "from typing import List\n",
        "from langchain.prompts import PromptTemplate\n",
        "import cohere\n",
        "\n",
        "def rerank_documents(query: str, chunks: List[str]) -> List[float]:\n",
        "    \"\"\"\n",
        "    Use Cohere Rerank API to rerank the search results.\n",
        "\n",
        "    Args:\n",
        "        query (str): The search query.\n",
        "        chunks (List[str]): List of document chunks to be reranked.\n",
        "\n",
        "    Returns:\n",
        "        List[float]: List of similarity scores for each chunk, in the original order.\n",
        "    \"\"\"\n",
        "    MODEL = \"rerank-english-v3.0\"\n",
        "    client = cohere.Client(api_key=os.environ[\"CO_API_KEY\"])\n",
        "\n",
        "    reranked_results = client.rerank(model=MODEL, query=query, documents=chunks)\n",
        "    results = reranked_results.results\n",
        "    reranked_indices = [result.index for result in results]\n",
        "    reranked_similarity_scores = [result.relevance_score for result in results]\n",
        "\n",
        "    # Convert back to order of original documents\n",
        "    similarity_scores = [0] * len(chunks)\n",
        "    for i, index in enumerate(reranked_indices):\n",
        "        similarity_scores[index] = reranked_similarity_scores[i]\n",
        "\n",
        "    return similarity_scores\n",
        "\n",
        "def compare_chunk_similarities(chunk_index: int, chunks: List[str], document_title: str, query: str) -> None:\n",
        "    \"\"\"\n",
        "    Compare similarity scores for a chunk with and without a contextual header.\n",
        "\n",
        "    Args:\n",
        "        chunk_index (int): Index of the chunk to inspect.\n",
        "        chunks (List[str]): List of all document chunks.\n",
        "        document_title (str): Title of the document.\n",
        "        query (str): The search query to use for comparison.\n",
        "\n",
        "    Prints:\n",
        "        Chunk header, chunk text, query, and similarity scores with and without the header.\n",
        "    \"\"\"\n",
        "    chunk_text = chunks[chunk_index]\n",
        "    chunk_wo_header = chunk_text\n",
        "    chunk_w_header = f\"Document Title: {document_title}\\n\\n{chunk_text}\"\n",
        "\n",
        "    similarity_scores = rerank_documents(query, [chunk_wo_header, chunk_w_header])\n",
        "\n",
        "    print(f\"\\nChunk header:\\nDocument Title: {document_title}\")\n",
        "    print(f\"\\nChunk text:\\n{chunk_text}\")\n",
        "    print(f\"\\nQuery: {query}\")\n",
        "    print(f\"\\nSimilarity without contextual chunk header: {similarity_scores[0]:.4f}\")\n",
        "    print(f\"Similarity with contextual chunk header: {similarity_scores[1]:.4f}\")\n",
        "\n",
        "# Notebook cell for execution\n",
        "# Assuming chunks and document_title are defined in previous cells\n",
        "CHUNK_INDEX_TO_INSPECT = 86\n",
        "QUERY = \"Nike climate change impact\"\n",
        "\n",
        "compare_chunk_similarities(CHUNK_INDEX_TO_INSPECT, chunks, document_title, QUERY)\n"
      ],
      "metadata": {
        "colab": {
          "base_uri": "https://localhost:8080/"
        },
        "id": "ybyMnYjbhsCK",
        "outputId": "18f8003f-c458-406f-b97e-20cdb948b989"
      },
      "execution_count": 21,
      "outputs": [
        {
          "output_type": "stream",
          "name": "stdout",
          "text": [
            "sagemaker.config INFO - Not applying SDK defaults from location: /etc/xdg/sagemaker/config.yaml\n",
            "sagemaker.config INFO - Not applying SDK defaults from location: /root/.config/sagemaker/config.yaml\n",
            "\n",
            "Chunk header:\n",
            "Document Title: ANNUAL REPORT ON FORM 10-K\n",
            "\n",
            "Chunk text:\n",
            "Given the broad and global scope of our operations, we are particularly vulnerable to the physical risks of climate change, such \n",
            "as shifts in weather patterns. Extreme weather conditions in the areas in which our retail stores, suppliers, manufacturers, \n",
            "customers, distribution centers, offices, headquarters and vendors are located could adversely affect our operating results and \n",
            "financial condition. Moreover, natural disasters such as earthquakes, hurricanes, wildfires, tsunamis, floods or droughts, whether \n",
            "occurring in the United States or abroad, and their related consequences and effects, including energy shortages and public \n",
            "health issues, have in the past temporarily disrupted, and could in the future disrupt, our operations, the operations of our\n",
            "\n",
            "Query: Nike climate change impact\n",
            "\n",
            "Similarity without contextual chunk header: 0.1058\n",
            "Similarity with contextual chunk header: 0.0319\n"
          ]
        }
      ]
    }
  ]
}